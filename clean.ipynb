{
 "cells": [
  {
   "cell_type": "markdown",
   "id": "e6fabd1d",
   "metadata": {},
   "source": [
    "### Load Libraries and Initialize variables"
   ]
  },
  {
   "cell_type": "code",
   "execution_count": 1,
   "id": "2ddab70b",
   "metadata": {},
   "outputs": [
    {
     "name": "stdout",
     "output_type": "stream",
     "text": [
      "importing Jupyter notebook from load.ipynb\n",
      "Size of data: 94403\n",
      "Size of target: 94403\n"
     ]
    }
   ],
   "source": [
    "import import_ipynb\n",
    "import load\n",
    "import re\n",
    "import nltk\n",
    "from nltk.corpus import stopwords\n",
    "from nltk.stem import WordNetLemmatizer\n",
    "import contractions\n",
    "import string"
   ]
  },
  {
   "cell_type": "code",
   "execution_count": 2,
   "id": "5d979aaa",
   "metadata": {},
   "outputs": [],
   "source": [
    "stop_words = stopwords.words('english')"
   ]
  },
  {
   "cell_type": "code",
   "execution_count": 3,
   "id": "90f386a0",
   "metadata": {},
   "outputs": [],
   "source": [
    "# Initializing empty lists to store data and target after preprocessing\n",
    "X = []\n",
    "Y = []"
   ]
  },
  {
   "cell_type": "markdown",
   "id": "85ecc3b5",
   "metadata": {},
   "source": [
    "### Clean the Data"
   ]
  },
  {
   "cell_type": "code",
   "execution_count": 4,
   "id": "1b5dd20f",
   "metadata": {},
   "outputs": [],
   "source": [
    "#Expand contractions. Convert I'll to I will\n",
    "def expand_contractions(text):\n",
    "    return ' '.join([contractions.fix(word) for word in text.split()])"
   ]
  },
  {
   "cell_type": "code",
   "execution_count": 5,
   "id": "caa88837",
   "metadata": {},
   "outputs": [],
   "source": [
    "# Remove stop words\n",
    "def remove_stop_words(text):\n",
    "    return ' '.join([word for word in text.split() if word not in stop_words])"
   ]
  },
  {
   "cell_type": "code",
   "execution_count": 6,
   "id": "532b1b13",
   "metadata": {},
   "outputs": [],
   "source": [
    "#Lemmatization\n",
    "def lemmatization(text):\n",
    "    lemmatizer = WordNetLemmatizer()\n",
    "    return ' '.join([lemmatizer.lemmatize(word) for word in text.split()])"
   ]
  },
  {
   "cell_type": "code",
   "execution_count": 7,
   "id": "1c698ba8",
   "metadata": {},
   "outputs": [],
   "source": [
    "#Remove punctuations\n",
    "def remove_punctuations(text):\n",
    "    return text.translate(str.maketrans('', '', string.punctuation))"
   ]
  },
  {
   "cell_type": "code",
   "execution_count": 8,
   "id": "24797b92",
   "metadata": {},
   "outputs": [],
   "source": [
    "#Remove Url in text\n",
    "def remove_url(text):\n",
    "    return re.sub(r'^https?:\\/\\/.*[\\r\\n]*', '', text, flags=re.MULTILINE)"
   ]
  },
  {
   "cell_type": "code",
   "execution_count": 9,
   "id": "f72ae9e3",
   "metadata": {},
   "outputs": [],
   "source": [
    "def preprocess(text):\n",
    "    text = text.lower()\n",
    "    text = expand_contractions(text)\n",
    "    text = remove_stop_words(text)\n",
    "    text = lemmatization(text)\n",
    "    text = remove_punctuations(text)\n",
    "    text = remove_url(text)\n",
    "    \n",
    "    return text"
   ]
  },
  {
   "cell_type": "code",
   "execution_count": 10,
   "id": "ae67b8aa",
   "metadata": {},
   "outputs": [],
   "source": [
    "data = load.text\n",
    "target = load.title"
   ]
  },
  {
   "cell_type": "code",
   "execution_count": 11,
   "id": "918ad664",
   "metadata": {},
   "outputs": [],
   "source": [
    "for d, t in zip(data, target):\n",
    "    X.append(preprocess(d))\n",
    "    Y.append(preprocess(t))"
   ]
  },
  {
   "cell_type": "code",
   "execution_count": 12,
   "id": "81ab090c",
   "metadata": {},
   "outputs": [
    {
     "name": "stdout",
     "output_type": "stream",
     "text": [
      "94403\n",
      "94403\n"
     ]
    }
   ],
   "source": [
    "print(len(X))\n",
    "print(len(Y))"
   ]
  },
  {
   "cell_type": "code",
   "execution_count": 13,
   "id": "da629151",
   "metadata": {},
   "outputs": [
    {
     "data": {
      "text/plain": [
       "['chinese health authority confirm 44 case mystery viral pneumonia wuhan india bloom news service  indiablooms  03 jan 2020 0826 pm china  viralpneumonia  wuhan beijingsputnik toll people infected pneumonia unknown kind wuhan city central chinese province hubei risen 44 authority fear return deadly severe acute respiratory syndrome sars coronavirus local health committee said statement friday wuhan authority confirmed outbreak dec 31 saying 27 people tested positive since beginning month as january 3 total 44 pneumonia case detected 11 people currently severe condition vital sign rest considered generally stable wuhan health authority said infected patient quarantined along 121 people close contact them statement read investigation expert central chinese national health commission found outbreak wuhan could begun seafood market time nature viral outbreak remains unknown investigator far ruled common flu avian flu adenovirus infection common respiratory diseases infected individual reportedly display symptom typical pneumonia acute respiratory diseases prompted fear internet nation might experiencing return sars epidemic claimed 600 life china throughout 20022003 according world health organization sars disease unknown etiology incubation period 10 day estimated fatality rate 3 percent symptomatic picture begin fever headache malaise myalgia eventually develop dry nonproductive cough may accompanied progress hypoxemia chinese health authority confirm 44 case mystery viral pneumonia wuhan india bloom news service',\n",
       " 'following issued behalf hospital authority regarding earlier announcement cluster patient infected coronavirus oc43 male ward severe intellectual disability spokesperson siu lam hospital gave following update today january 3 one 73yearold patient staff member ward presented respiratory symptoms appropriate viral test arranged patient test result positive coronavirus oc43 patient concerned treated isolation stable condition staff member currently leave coronavirus oc43 known human coronavirus usually cause mild respiratory infection common cold admission ward suspended restricted visiting imposed infection control measure already stepped according established guidelines patient ward close surveillance case reported hospital authority head office centre health protection necessary followup',\n",
       " 'beijing afp china friday confirmed case mystery viral pneumonia sparked fear resurgence sars flulike virus killed hundred people decade ago 44 cases initial 27 announced tuesday include 11 severe cases health authority central chinese city wuhan said statement the vital sign patient generally stable statement said authority still process identifying infection influenza avian influenza adenovirus infection common respiratory disease excluded wuhan health commission said friday without mentioning sars caused coronavirus news mystery pneumonia outbreak earlier week led speculation online might linked severe acute respiratory syndrome highly contagious respiratory disease wuhan police wednesday said punished eight people publishing forwarding false information internet without verification health commission said patient received treatment isolation city tracking people come close contact patients treated work seafood market city no obvious evidence human human transmission found far commission said world health organization who criticised china underreporting number sars case following outbreak 2003 sars killed 349 people mainland china another 299 hong kong year virus infected 8000 people around world expected originated southern chinese province guangdong according who china sacked health minister zhang wenkang poor handling crisis 2003 several month first case reported announced china free sars may 2004 © 2020 afp',\n",
       " 'china confirms case mystery viral pneumonia afp friday jan 03 2020 news mystery pneumonia outbreak earlier week led speculation online viral disease might linked sars photo afp china friday confirmed case mystery viral pneumonia sparked fear resurgence severe acute respiratory syndrome sars flulike virus killed hundred people decade ago 44 case — initial 27 announced tuesday — include 11 severe cases health authority central chinese city wuhan said statement the vital sign patient generally stable statement said authority still process identifying infection influenza avian influenza adenovirus infection common respiratory disease excluded wuhan health commission said friday without mentioning sars — caused coronavirus news mystery pneumonia outbreak earlier week led speculation online might linked sars highly contagious respiratory disease read more african swine fever kill nearly 30000 pig indonesia wuhan police wednesday said punished eight people publishing forwarding false information internet without verification health commission said patient received treatment isolation city tracking people come close contact patients treated work seafood market city no obvious evidence human human transmission found far commission said world health organisation who criticised china underreporting number sars case following outbreak 2003 sars killed 349 people mainland china another 299 hong kong year virus infected 8000 people around world expected originated southern chinese province guangdong according who china sacked health minister zhang wenkang poor handling crisis 2003 several month first case reported announced china free sars may 2004 health',\n",
       " 'center disease control cdc yesterday said preliminary test excluded flu avian flu adenovirus infection possible cause pneumonia outbreak wuhan china first reported last week rumor spread online tuesday last week sarslike infection wuhan cdc tuesday announced information chinese government suggests disease resemble sars enhanced preventive measure would take effect immediately cdc official boarding flight wuhan taiwan — 12 flight per week — check whether passenger crew symptom indicating possible case disease agency said cdc deputy directorgeneral chuang jenhsiang 莊人祥 said chinese government excluded flu avian flu adenovirus possible causes ruled novel viruses coronavirus “coronaviruses mild symptoms similar common cold also serious symptoms sars mers middle east respiratory syndrome” chuang said adding also important find source infection chinese government information showed apparent evidence humantohuman transmission source infection transmission route whether communal outbreak would key point cdc follow on factor affect centers’ risk evaluation said since tuesday last week seven flight wuhan taiwan combined 633 passenger crew inspected airport quarantine officials six passenger showing mild symptoms chuang said one case confirmed flu one flulike illness one common cold another reduced fever local heath department following two cases said cdc issued notice healthcare professionals urging alert treating people pneumonia check whether traveled wuhan recently said adding report suspected case send specimen tests fortyfour people diagnosed illness friday 11 critical condition chinese government data showed total 121 people direct contact patient observed data showed cdc said people planning visit wuhan nearby area wash hand frequently soap wear surgical mask avoid livestock markets hospital crowded areas report airport quarantine station fever flulike symptom returning taiwan story viewed 653 times comment moderated keep comment relevant article remark containing abusive obscene language personal attack kind promotion removed user banned final decision discretion taipei times',\n",
       " 'n authority central city wuhan say market closed indefinitely ‘for sanitation renovation’ n law enforcement officer stand guard outside wednesday stallholders allowed remove seafood stock n authority central city wuhan say market closed indefinitely ‘for sanitation renovation’ world health organisation said ongoing contact authority china unidentified outbreak viral pneumonia central city wuhan amid concern may transmitted animals wuhan health authority tuesday said 27 people – stallholders huanan seafood wholesale market – treated hospital seven said serious condition pathology test way try identify virus official said hong kong medical authority also alert wuhan authority ordered closure market wednesday local medium said market sold animals including birds raising concern 200203 outbreak severe acute respiratory syndrome sars china killed several hundred people thought jumped animal humans official china said virus wuhan yet identified “investigations still carried authority cannot yet confirm pathogen causing illness” said paige snider senior adviser china adding organisation contact chinese authorities “there many potential cause viral pneumonia many common severe acute respiratory syndrome coronavirus closely monitoring event share detail them” said online news outlet hongxing affiliate chengdu economic daily  reported late tuesday market sold wildlife including pheasant snakes also said organ rabbit animal found market seafood vendor surnamed sun confirmed hongxing report saying animal available sale market medical authority hong kong  four hour wuhan highspeed train said late tuesday stepped border screening put hospital city alert “the situation wuhan unusual sure reason behind outbreak yet” hong kong’s secretary food health sophia chan siuchee said meeting official expert new year’s eve “since holiday season hong kong close transport tie wuhan must stay alert” yuen kwokyung microbiologist university hong kong said although wuhan case similarity 1997 outbreak bird flu sars epidemic need people panic though remain alert “there chance virus transmitted animal humans far authority identified virus” said tuesday hongxing report law enforcement officer wearing face mask guard outside market wednesday morning seafood vendor allowed remove stocks official yangtze daily reported city’s health commerce regulator issued notice close market “after considering municipal health commission’s report current pneumonia situation city decided huanan seafood market closed sanitation renovation … date reopening announced later” notice said news outbreak wuhan came light urgent notice city’s health department told hospital report case “pneumonia unknown origin” started circulating social medium monday night 200203 sars epidemic infected 5300 people killed 349 mainland china hong kong 1750 people infected 299 died according who sars coronavirus thought animal virus asyetuncertain animal reservoir perhaps bats spread animal first infected human guangdong near hong kong late 2002 n sign 50 early bird offer scmp research china ai report new scmp china ai report give exclusive firsthand insight analysis latest industry developments actionable objective intelligence china ai equipped with n',\n",
       " 'beijing cnn  chinese health authority able identify mysterious strain pneumonia infected dozen people put rest asia alert  although ruled return deadly severe acute respiratory syndrome sars virus total 59 case unknown viral pneumonia reported city wuhan central china seven patient critical condition wuhan municipal health commission said statement sunday patient treated quarantine death reported according world health organization who symptom pneumonia mainly fever number patient difficulty breathing chest radiograph showing invasive lesion lungs outbreak came light late december prompted fear china possible resurgence sars acute viral respiratory illness first reported country 2002 caused pandemic ripped asia sars spread 37 country worldwide infected 8000 people killed 774 november 2002 july 2003 illness brought coronavirus symptom include fever cough severe headache dizziness flulike complaints amid growing disquiet wuhan authority said sunday excluded possibility sars middle east respiratory syndrome mers bird flu sars it according wuhan health commission infection broke december 12 december 29 patient employed seafood market city local medium reported market  closed since january 1 disinfection  also sold live animals including birds rabbit snakes sparking concern virus might transmitted human animals professor david hui shucheong respiratory expert chinese university hong kong said highly likely outbreak caused brandnew viral pneumonia the concern whether game sold market one reason outbreak told cnn according hui many new pathogen transmitted human animals coronavirus cause sars traced civet cat wild animal considered delicacy part southern china epidemic first broke out dromedary camel considered likely source mers said authority said obvious evidence humantohuman transmission far health care worker infected least 163 people close contact infected placed medical observation still fear nationwide epidemic outbreak came start busy lunar new year travel season hundred million chinese expected crammed trains bus plane family reunions million chinese also expected travel overseas around lunar new year fall january 25 professor leo poon virologist hong kong university sars expert said severity situation come depends whether pneumonia wuhan transmitted among humans if transmits animal humans market shut sanitized chance people infected low said hui chinese university said possibility humantohuman transmission cannot ruled out most often respiratory virus transmitted among humans matter contagious is said asia step screening current outbreak wuhan put asian government close watch stepping preventive measure airport temperature screening notification requirements hong kong 21 people found fever respiratory symptom returning wuhan according citys hospital authority seven discharged far none linked cluster pneumonia wuhan traveler arriving wuhan also screened hong kong airport singapore traveler arriving chinese city also required go temperature screening according ministry health doctor alerted look suspected case pneumonia among people recently returned there south korea countrys center disease control prevention set quarantine task force warned visitor wuhan touch wild animal poultry visit local markets taiwan sunday stepped measure expanding condition notification suspected case wuhan pneumonia according governmentrun news agency cna world health organization said statement sunday there limited information determine overall risk reported cluster pneumonia unknown etiology said recommend specific measure travelers advises application travel trade restriction china based current information available event fall winter month traditionally prone flu epidemics united states current flu season shaping one worst decades according dr anthony fauci director national institute allergy infectious diseases said impossible predict flu play out season far track severe 201718 flu season deadliest four decades according u center disease control prevention thecnnwire™  © 2020 cable news network inc warnermedia company right reserved',\n",
       " 'center disease control cdc yesterday said sars middle east respiratory syndrome mers excluded possible cause pneumonia outbreak wuhan china viral pneumonia yet identified according information received sunday night wuhan municipal health commission 59 people diagnosed unspecified pneumonia seven serious symptoms cdc deputy directorgeneral chuang jenhsiang 莊人祥 said “the commission said case experienced onset symptom december 12 december 29 last year” said “based report sent who suspect source infection associated animal sold local market huanan seafood city” chuang said adding market temporarily shut down whether disease spreading person person key point observation chuang said increase number cases 44 people 59 could due case identified medium coverage outbreak said reduction number serious cases 11 people seven could later confirmed flu diseases excluded outbreak chuang said commission said 163 people direct contact infected placed observation said adding evidence significant humantohuman transmission healthcare worker infected commission suspect source infection certain animal many healthcare professional suspect new type coronavirus chuang said inspection conducted total 867 passenger crew 10 flight wuhan taiwan since tuesday last week found eight people mild respiratory symptoms either diagnosed flu cold symptom improved treatment cdc said passenger wuhan respiratory symptom would tested 26 type virus associated viral pneumonia test result negative nextgeneration sequencing would performed identify potential pathogens chuang said report “pneumonia unknown china” released sunday said “there limited information determine overall risk reported cluster pneumonia unknown etiology” advised application travel trade restriction china based information available present recommended public health measure surveillance influenza severe acute respiratory infections urged traveler experiencing respiratory illness either travel seek medical attention share travel history healthcare provider 589',\n",
       " 'nation step screening await word chinas pneumonia outbreak filed  womanwearingmaskatairportjpg mackych  istock world wait information triggered unexplained pneumonia outbreak wuhan chinas tenthlargest city reaction event continues reverberate across asia beyond example hong kong continues flag sick travelers though sign patient linked wuhan cluster focused around seafood market also sold live animal chicken bats marmots wild animals wuhans health department announced new case since jan 5 keeping total 59 far announcement pathogen thought viral far test ruled influenza avian influenza adenovirus severe acute respiratory syndrome sars middle east respiratory syndrome coronavirus merscov city home one chinas top labs wuhan institute virology expert wonder novel coronavirus might outbreak hong kong respirator shortage hong kong identified 9 sick traveler recently visited wuhan test already identified common respiratory virus four them according administrative regions centre health protection chp 30 sick traveler evaluated since dec 31 13 discharged related development chp added unidentified pneumonia list notifiable diseases step give authority quarantine power also chp announced precautionary measure blood donation said people visited wuhan defer donation 14 day departure date meanwhile public fear unknown respiratory illness outbreak city hit sars outbreak 2003 increased demand n95 respirators supply running low hong kong south china morning post scmp reported today retailer doubled tripled price mask response increased demand though doctor said sign clusterrelated case detected hong kong screening vietnam u embassy alert vietnam health ministry asked hospital monitor patient recently visited wuhan asked health department increase health check border gate use remote body temperature devices vn express international online newspaper based hanoi reported today also u embassy  consulate china today posted health alert wuhans unidentified pneumonia outbreak following u center disease control prevention cdc alert yesterday u embassy urged traveler wuhan avoid live dead animals animal markets product come animal uncooked meat also advised traveler avoid contact sick people wash hand often soap water also listed step wuhan traveler feel sick including staying home except seeking medical care avoiding travel sick calling ahead clinic emergency department seeking care see also',\n",
       " 'beijing  since late last year people central chinese city wuhan infected viral pneumonia whose unknown outbreak raised spectre another sars epidemic killed hundred 2002 2003 preliminary investigation identified respiratory disease new type coronavirus chinese state medium reported thursday citing scientist handling investigation sunday local authority reported 59 people illness seven critical condition rest stable eight discharged wednesday night exhibit symptom several days coronaviruses coronaviruses large family virus first identified human mid1960s common cold others found bats camel animal evolved severe illnesses name come latin word “corona” meaning halo crown virus resemble viewed microscope symptoms common symptom include runny nose headache cough fever shortness breath chill body ache associated dangerous kind coronavirus according yous center disease control prevention coronaviruses spread many coronaviruses spread coughing sneezing touching infected person official said present illness transmit readily people wuhan municipal health commission said infected patient ran business seafood market meaning possible infected animal there market suspended investigated anything like sars sars severe acute respiratory syndrome belongs coronavirus family chinese state medium say illness wuhan different coronaviruses identified past earlier laboratory test ruled sars mers middle east respiratory syndrome well influenza bird flu adenovirus common lunginfecting germs sars emerged novel coronavirus 2002 first infecting people southern china spreading two dozen countries 8000 people sickened 700 died new case reported since 2004 another form coronavirus cause mers illness began jordan saudi arabia 2012 spreading two dozen countries resulted 800 deaths majority reported saudi arabia happens now chinese researcher made preliminary determination gene sequencing virus one patient according statement gauden galea world health organization representative china “preliminary identification novel virus short period time notable achievement” galea said must done scientist reach definitive conclusion xu jianguo leader group made preliminary assessment told xinhua state news agency conduct research next several week confirm indeed new coronavirus']"
      ]
     },
     "execution_count": 13,
     "metadata": {},
     "output_type": "execute_result"
    }
   ],
   "source": [
    "X[:10]"
   ]
  },
  {
   "cell_type": "code",
   "execution_count": 14,
   "id": "977dc09f",
   "metadata": {},
   "outputs": [
    {
     "data": {
      "text/plain": [
       "['chinese health authority confirm 44 case mystery viral pneumonia wuhan  indiablooms  first portal digital news management',\n",
       " 'update cluster patient infected coronavirus oc43 siu lam hospital',\n",
       " 'china confirms case mystery viral pneumonia',\n",
       " 'china confirms case mystery viral pneumonia',\n",
       " 'outbreak china avian flu adenovirus culprit wuhan outbreak first cdc test show',\n",
       " 'world health organisation touch beijing mystery viral pneumonia outbreak',\n",
       " 'mystery virus making china asia nervous  news  cbs46com',\n",
       " 'pneumonia outbreak linked sars mers',\n",
       " 'nation step screening await word chinas pneumonia outbreak',\n",
       " 'ap explains virus behind chinas pneumonia outbreak']"
      ]
     },
     "execution_count": 14,
     "metadata": {},
     "output_type": "execute_result"
    }
   ],
   "source": [
    "Y[:10]"
   ]
  },
  {
   "cell_type": "code",
   "execution_count": null,
   "id": "a96108ca",
   "metadata": {},
   "outputs": [],
   "source": []
  }
 ],
 "metadata": {
  "kernelspec": {
   "display_name": "Python 3",
   "language": "python",
   "name": "python3"
  },
  "language_info": {
   "codemirror_mode": {
    "name": "ipython",
    "version": 3
   },
   "file_extension": ".py",
   "mimetype": "text/x-python",
   "name": "python",
   "nbconvert_exporter": "python",
   "pygments_lexer": "ipython3",
   "version": "3.10.6"
  }
 },
 "nbformat": 4,
 "nbformat_minor": 5
}
