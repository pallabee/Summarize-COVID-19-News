{
 "cells": [
  {
   "cell_type": "markdown",
   "id": "6c2fa9db",
   "metadata": {},
   "source": [
    "### Load Libraries and Initialize variables"
   ]
  },
  {
   "cell_type": "code",
   "execution_count": 1,
   "id": "2d2a0e41",
   "metadata": {},
   "outputs": [
    {
     "name": "stdout",
     "output_type": "stream",
     "text": [
      "importing Jupyter notebook from load.ipynb\n",
      "Size of data: 94403\n",
      "Size of target: 94403\n"
     ]
    }
   ],
   "source": [
    "import import_ipynb\n",
    "import load\n",
    "import re\n",
    "import nltk\n",
    "from nltk.corpus import stopwords"
   ]
  },
  {
   "cell_type": "code",
   "execution_count": 2,
   "id": "429f7163",
   "metadata": {},
   "outputs": [],
   "source": [
    "# Reference to contraction_mapping dictionary \n",
    "# https://gist.github.com/nahidalam/e09c6833a938de046c0f46db118b9d20\n",
    "\n",
    "contraction_mapping = {\"ain't\": \"is not\", \"aren't\": \"are not\",\"can't\": \"cannot\", \"'cause\": \"because\", \"could've\": \"could have\", \"couldn't\": \"could not\",\n",
    "\n",
    "                           \"didn't\": \"did not\", \"doesn't\": \"does not\", \"don't\": \"do not\", \"hadn't\": \"had not\", \"hasn't\": \"has not\", \"haven't\": \"have not\",\n",
    "\n",
    "                           \"he'd\": \"he would\",\"he'll\": \"he will\", \"he's\": \"he is\", \"how'd\": \"how did\", \"how'd'y\": \"how do you\", \"how'll\": \"how will\", \"how's\": \"how is\",\n",
    "\n",
    "                           \"I'd\": \"I would\", \"I'd've\": \"I would have\", \"I'll\": \"I will\", \"I'll've\": \"I will have\",\"I'm\": \"I am\", \"I've\": \"I have\", \"i'd\": \"i would\",\n",
    "\n",
    "                           \"i'd've\": \"i would have\", \"i'll\": \"i will\",  \"i'll've\": \"i will have\",\"i'm\": \"i am\", \"i've\": \"i have\", \"isn't\": \"is not\", \"it'd\": \"it would\",\n",
    "\n",
    "                           \"it'd've\": \"it would have\", \"it'll\": \"it will\", \"it'll've\": \"it will have\",\"it's\": \"it is\", \"let's\": \"let us\", \"ma'am\": \"madam\",\n",
    "\n",
    "                           \"mayn't\": \"may not\", \"might've\": \"might have\",\"mightn't\": \"might not\",\"mightn't've\": \"might not have\", \"must've\": \"must have\",\n",
    "\n",
    "                           \"mustn't\": \"must not\", \"mustn't've\": \"must not have\", \"needn't\": \"need not\", \"needn't've\": \"need not have\",\"o'clock\": \"of the clock\",\n",
    "\n",
    "                           \"oughtn't\": \"ought not\", \"oughtn't've\": \"ought not have\", \"shan't\": \"shall not\", \"sha'n't\": \"shall not\", \"shan't've\": \"shall not have\",\n",
    "\n",
    "                           \"she'd\": \"she would\", \"she'd've\": \"she would have\", \"she'll\": \"she will\", \"she'll've\": \"she will have\", \"she's\": \"she is\",\n",
    "\n",
    "                           \"should've\": \"should have\", \"shouldn't\": \"should not\", \"shouldn't've\": \"should not have\", \"so've\": \"so have\",\"so's\": \"so as\",\n",
    "\n",
    "                           \"this's\": \"this is\",\"that'd\": \"that would\", \"that'd've\": \"that would have\", \"that's\": \"that is\", \"there'd\": \"there would\",\n",
    "\n",
    "                           \"there'd've\": \"there would have\", \"there's\": \"there is\", \"here's\": \"here is\",\"they'd\": \"they would\", \"they'd've\": \"they would have\",\n",
    "\n",
    "                           \"they'll\": \"they will\", \"they'll've\": \"they will have\", \"they're\": \"they are\", \"they've\": \"they have\", \"to've\": \"to have\",\n",
    "\n",
    "                           \"wasn't\": \"was not\", \"we'd\": \"we would\", \"we'd've\": \"we would have\", \"we'll\": \"we will\", \"we'll've\": \"we will have\", \"we're\": \"we are\",\n",
    "\n",
    "                           \"we've\": \"we have\", \"weren't\": \"were not\", \"what'll\": \"what will\", \"what'll've\": \"what will have\", \"what're\": \"what are\",\n",
    "\n",
    "                           \"what's\": \"what is\", \"what've\": \"what have\", \"when's\": \"when is\", \"when've\": \"when have\", \"where'd\": \"where did\", \"where's\": \"where is\",\n",
    "\n",
    "                           \"where've\": \"where have\", \"who'll\": \"who will\", \"who'll've\": \"who will have\", \"who's\": \"who is\", \"who've\": \"who have\",\n",
    "\n",
    "                           \"why's\": \"why is\", \"why've\": \"why have\", \"will've\": \"will have\", \"won't\": \"will not\", \"won't've\": \"will not have\",\n",
    "\n",
    "                           \"would've\": \"would have\", \"wouldn't\": \"would not\", \"wouldn't've\": \"would not have\", \"y'all\": \"you all\",\n",
    "\n",
    "                           \"y'all'd\": \"you all would\",\"y'all'd've\": \"you all would have\",\"y'all're\": \"you all are\",\"y'all've\": \"you all have\",\n",
    "\n",
    "                           \"you'd\": \"you would\", \"you'd've\": \"you would have\", \"you'll\": \"you will\", \"you'll've\": \"you will have\",\n",
    "\n",
    "                           \"you're\": \"you are\", \"you've\": \"you have\"}"
   ]
  },
  {
   "cell_type": "code",
   "execution_count": 3,
   "id": "18ec5b98",
   "metadata": {},
   "outputs": [],
   "source": [
    "stop_words = stopwords.words('english')"
   ]
  },
  {
   "cell_type": "code",
   "execution_count": 4,
   "id": "044631a2",
   "metadata": {},
   "outputs": [],
   "source": [
    "# Initializing empty lists to store data and target after preprocessing\n",
    "X = []\n",
    "Y = []"
   ]
  },
  {
   "cell_type": "markdown",
   "id": "ba321b2b",
   "metadata": {},
   "source": [
    "### Clean the Data"
   ]
  },
  {
   "cell_type": "code",
   "execution_count": 5,
   "id": "4169e9c4",
   "metadata": {},
   "outputs": [],
   "source": [
    "def preprocess(text):\n",
    "    text = text.lower() # lowercase\n",
    "    text = text.split() # convert have'nt -> have not\n",
    "    for i in range(len(text)):\n",
    "        word = text[i]\n",
    "        if word in contraction_mapping:\n",
    "            text[i] = contraction_mapping[word]\n",
    "    text = \" \".join(text)\n",
    "    text = text.split()\n",
    "    newtext = []\n",
    "    for word in text:\n",
    "        if word not in stop_words:\n",
    "            newtext.append(word)\n",
    "    text = \" \".join(newtext)\n",
    "    text = text.replace(\"'s\",'') # convert your's -> your\n",
    "    text = re.sub(r'\\(.*\\)','',text) # remove (words)\n",
    "    text = re.sub(r'[^a-zA-Z0-9. ]','',text) # remove punctuations\n",
    "    text = re.sub(r'\\.',' . ',text)\n",
    "    return text"
   ]
  },
  {
   "cell_type": "code",
   "execution_count": 6,
   "id": "02603c5d",
   "metadata": {},
   "outputs": [],
   "source": [
    "data = load.text\n",
    "target = load.title"
   ]
  },
  {
   "cell_type": "code",
   "execution_count": 7,
   "id": "a831c13a",
   "metadata": {},
   "outputs": [],
   "source": [
    "for d, t in zip(data, target):\n",
    "    X.append(preprocess(d))\n",
    "    Y.append(preprocess(t))"
   ]
  },
  {
   "cell_type": "code",
   "execution_count": 8,
   "id": "da5527ed",
   "metadata": {},
   "outputs": [
    {
     "name": "stdout",
     "output_type": "stream",
     "text": [
      "94403\n",
      "94403\n"
     ]
    }
   ],
   "source": [
    "print(len(X))\n",
    "print(len(Y))"
   ]
  },
  {
   "cell_type": "code",
   "execution_count": 9,
   "id": "257f5298",
   "metadata": {},
   "outputs": [
    {
     "data": {
      "text/plain": [
       "['chinese health authorities confirm 44 cases mystery viral pneumonia wuhan india blooms news service  indiablooms  03 jan 2020 0826 pm china  viralpneumonia  wuhan beijingsputnik toll people infected pneumonia unknown kind wuhan city central chinese province hubei risen 44 authorities fear return deadly severe acute respiratory syndrome  coronavirus local health committee said statement friday .  wuhan authorities confirmed outbreak dec 31 saying 27 people tested positive since beginning month .  as january 3 total 44 pneumonia cases detected 11 people currently severe condition vital signs rest considered generally stable wuhan health authorities said .  infected patients quarantined along 121 people close contact them statement read .  investigation experts central chinese national health commission found outbreak wuhan could begun seafood market .  time nature viral outbreak remains unknown .  investigators far ruled common flu avian flu adenovirus infection common respiratory diseases .  infected individuals reportedly display symptoms typical pneumonia acute respiratory diseases .  prompted fears internet nation might experiencing return sars epidemic claimed 600 lives china throughout 20022003 .  according world health organization sars disease unknown etiology incubation period 10 days estimated fatality rate 3 percent .  symptomatic picture begins fever headache malaise myalgias eventually develop dry nonproductive cough may accompanied progress hypoxemia .  chinese health authorities confirm 44 cases mystery viral pneumonia wuhan india blooms news service',\n",
       " 'following issued behalf hospital authority regarding earlier announcement cluster patients infected coronavirus oc43 male ward severe intellectual disability spokesperson siu lam hospital gave following update today  one 73yearold patient staff member ward presented respiratory symptoms .  appropriate viral tests arranged patient test results positive coronavirus oc43 .  patient concerned treated isolation stable condition .  staff member currently leave .  coronavirus oc43 known human coronavirus usually causes mild respiratory infection common cold .  admission ward suspended restricted visiting imposed .  infection control measures already stepped according established guidelines .  patients ward close surveillance .  cases reported hospital authority head office centre health protection necessary followup . ',\n",
       " 'beijing  criticised china underreporting number sars cases following outbreak 2003 .  sars killed 349 people mainland china another 299 hong kong year .  virus infected 8000 people around world expected originated southern chinese province guangdong according who .  china sacked health minister zhang wenkang poor handling crisis 2003 several months first case reported .  announced china free sars may 2004 .   2020 afp',\n",
       " 'china confirms cases mystery viral pneumonia afp friday jan 03 2020 news mystery pneumonia outbreak earlier week led speculation online viral disease might linked sars .  photo afp china friday confirmed cases mystery viral pneumonia sparked fears resurgence severe acute respiratory syndrome  criticised china underreporting number sars cases following outbreak 2003 .  sars killed 349 people mainland china another 299 hong kong year .  virus infected 8000 people around world expected originated southern chinese province guangdong according who .  china sacked health minister zhang wenkang poor handling crisis 2003 several months first case reported .  announced china free sars may 2004 .  health',\n",
       " 'centers disease control  said chinese government excluded flu avian flu adenovirus possible causes ruled novel viruses coronavirus .  coronaviruses cause mild symptoms similar common cold also cause serious symptoms sars mers middle east respiratory syndrome chuang said adding also important find source infection .  chinese government information showed apparent evidence humantohuman transmission source infection transmission route whether communal outbreaks would key points cdc follow on factors affect centers risk evaluation said .  since tuesday last week seven flights wuhan taiwan combined 633 passengers crew inspected airport quarantine officials six passengers showing mild symptoms chuang said .  one cases confirmed flu one flulike illness one common cold another reduced fever local heath departments following two cases said .  cdc issued notice healthcare professionals urging alert treating people pneumonia check whether traveled wuhan recently said adding report suspected cases send specimen tests .  fortyfour people diagnosed illness friday 11 critical condition chinese government data showed .  total 121 people direct contact patients observed data showed .  cdc said people planning visit wuhan nearby areas wash hands frequently soap wear surgical mask avoid livestock markets hospitals crowded areas report airport quarantine station fever flulike symptoms returning taiwan .  story viewed 653 times .  comments moderated .  keep comments relevant article .  remarks containing abusive obscene language personal attacks kind promotion removed user banned .  final decision discretion taipei times . ',\n",
       " 'n authorities central city wuhan say market closed indefinitely for sanitation renovation n law enforcement officers stand guard outside wednesday stallholders allowed remove seafood stocks n authorities central city wuhan say market closed indefinitely for sanitation renovation .  world health organisation said ongoing contact authorities china unidentified outbreak viral pneumonia central city wuhan amid concern may transmitted animals .  wuhan health authorities tuesday said 27 people  stallholders huanan seafood wholesale market  treated hospital seven said serious condition .  pathology tests way try identify virus officials said .  hong kong medical authorities also alert .  wuhan authorities ordered closure market wednesday .  local media said market sold animals including birds raising concern 200203 outbreak severe acute respiratory syndrome  china killed several hundred people thought jumped animals humans .  officials china said virus wuhan yet identified .  investigations still carried authorities cannot yet confirm pathogen causing illness said paige snider senior adviser china adding organisation contact chinese authorities .  there many potential causes viral pneumonia many common severe acute respiratory syndrome coronavirus .  closely monitoring event share details them said .  online news outlet hongxing affiliate chengdu economic daily  reported late tuesday market sold wildlife including pheasants snakes .  also said organs rabbits animals found market .  seafood vendor surnamed sun confirmed hongxing report saying animals available sale market .  medical authorities hong kong  four hours wuhan highspeed train said late tuesday stepped border screening put hospitals city alert .  the situation wuhan unusual sure reasons behind outbreak yet hong kongs secretary food health sophia chan siuchee said meeting officials experts new years eve .  since holiday season hong kong close transport ties wuhan must stay alert .  yuen kwokyung microbiologist university hong kong said although wuhan case similarities 1997 outbreak bird flu sars epidemic need people panic though remain alert .  there chances virus transmitted animals humans far authorities identified virus said tuesday hongxing report .  law enforcement officers wearing face masks guard outside market wednesday morning seafood vendors allowed remove stocks official yangtze daily reported .  citys health commerce regulators issued notice close market .  after considering municipal health commissions report current pneumonia situation city decided huanan seafood market closed sanitation renovation  date reopening announced later notice said .  news outbreak wuhan came light urgent notice citys health department told hospitals report cases pneumonia unknown origin started circulating social media monday night .  200203 sars epidemic infected 5300 people killed 349 mainland china .  hong kong 1750 people infected 299 died .  according who sars coronavirus thought animal virus asyetuncertain animal reservoir perhaps bats spread animals first infected humans guangdong near hong kong late 2002 .  n sign 50 early bird offer scmp research china ai report .  new scmp china ai report gives exclusive firsthand insights analysis latest industry developments actionable objective intelligence china ai equipped with .  n',\n",
       " 'beijing  one reasons outbreak told cnn .  according hui many new pathogens transmitted humans animals .  coronavirus causes sars traced civet cat wild animal considered delicacy parts southern china epidemic first broke out .  dromedary camels considered likely source mers said .  authorities said obvious evidence humantohuman transmission far health care workers infected .  least 163 people close contact infected placed medical observation .  still fears nationwide epidemic .  outbreak came start busy lunar new year travel season hundreds millions chinese expected crammed trains buses planes family reunions .  millions chinese also expected travel overseas around lunar new year falls january 25 .  professor leo poon virologist hong kong university sars expert said severity situation come depends whether pneumonia wuhan transmitted among humans .  if transmits animals humans market shut sanitized chances people infected low said .  hui chinese university said possibility humantohuman transmission cannot ruled out .  most often respiratory viruses transmitted among humans .  matter contagious is said .  asia steps screening current outbreak wuhan put asian governments close watch stepping preventive measures airport temperature screening notification requirements .  hong kong 21 people found fever respiratory symptoms returning wuhan according city hospital authority .  seven discharged far none linked cluster pneumonia wuhan .  travelers arriving wuhan also screened hong kong airport .  singapore travelers arriving chinese city also required go temperature screening according ministry health .  doctors alerted look suspected cases pneumonia among people recently returned there .  south korea country centers disease control prevention set quarantine task force warned visitors wuhan touch wild animals poultry visit local markets .  taiwan sunday stepped measures expanding conditions notification suspected cases wuhan pneumonia according governmentrun news agency cna .  world health organization said statement sunday there limited information determine overall risk reported cluster pneumonia unknown etiology .  said recommend specific measures travelers advises application travel trade restrictions china based current information available event .  fall winter months traditionally prone flu epidemics .  united states current flu season shaping one worst decades according dr .  anthony fauci director national institute allergies infectious diseases .  said impossible predict flu play out season far track severe 201718 flu season deadliest four decades according us centers disease control prevention .  thecnnwire   2020 cable news network inc .  warnermedia company .  rights reserved . ',\n",
       " 'centers disease control  said .  the commission said cases experienced onset symptoms dec .  12 dec .  29 last year said .  based report sent who suspects source infection associated animals sold local market huanan seafood city chuang said adding market temporarily shut down .  whether disease spreading person person key point observation chuang said .  increase number cases 44 people 59 could due cases identified media coverage outbreak said .  reduction number serious cases 11 people seven could later confirmed flu diseases excluded outbreak chuang said .  commission said 163 people direct contact infected placed observation said adding evidence significant humantohuman transmission healthcare workers infected .  commission suspects source infection certain animal many healthcare professionals suspect new type coronavirus chuang said .  inspections conducted total 867 passengers crew 10 flights wuhan taiwan since tuesday last week found eight people mild respiratory symptoms either diagnosed flu cold symptoms improved treatment cdc said .  passengers wuhan respiratory symptoms would tested 26 types viruses associated viral pneumonia test results negative nextgeneration sequencing would performed identify potential pathogens chuang said .  whos report pneumonia unknown cause china released sunday said there limited information determine overall risk reported cluster pneumonia unknown etiology .  advised application travel trade restrictions china based information available present .  recommended public health measures surveillance influenza severe acute respiratory infections urged travelers experiencing respiratory illness either travel seek medical attention share travel history healthcare provider .  589',\n",
       " 'nations step screening await word china pneumonia outbreak filed  womanwearingmaskatairport . jpg mackych  istock world waits information triggered unexplained pneumonia outbreak wuhan china tenthlargest city reaction event continues reverberate across asia beyond .  example hong kong continues flag sick travelers though sign patients linked wuhan cluster focused around seafood market also sold live animals chicken bats marmots wild animals .  wuhan health department announced new cases since jan 5 keeping total 59 far announcements pathogen thought viral .  far tests ruled influenza avian influenza adenovirus severe acute respiratory syndrome  alert yesterday .  us embassy urged travelers wuhan avoid live dead animals animal markets products come animals uncooked meat .  also advised travelers avoid contact sick people wash hands often soap water .  also listed steps wuhan travelers feel sick including staying home except seeking medical care avoiding travel sick calling ahead clinic emergency department seeking care .  see also',\n",
       " 'beijing  since late last year people central chinese city wuhan infected viral pneumonia whose cause unknown .  outbreak raised spectre another sars epidemic killed hundreds 2002 2003 .  preliminary investigation identified respiratory disease new type coronavirus chinese state media reported thursday citing scientists handling investigation .  sunday local authorities reported 59 people illness .  seven critical condition rest stable .  eight discharged wednesday night exhibit symptoms several days .  coronaviruses coronaviruses large family viruses first identified humans mid1960s .  cause common cold others found bats camels animals evolved severe illnesses .  name comes latin word corona meaning halo crown viruses resemble viewed microscope .  symptoms common symptoms include runny nose headache cough fever .  shortness breath chills body aches associated dangerous kinds coronavirus according u . s .  centers disease control prevention .  coronaviruses spread many coronaviruses spread coughing sneezing touching infected person officials said present illness transmit readily people wuhan municipal health commission said infected patients ran businesses seafood market meaning possible infected animals there .  market suspended investigated .  anything like sars sars severe acute respiratory syndrome belongs coronavirus family chinese state media say illness wuhan different coronaviruses identified past .  earlier laboratory tests ruled sars mers  well influenza bird flu adenovirus common lunginfecting germs .  sars emerged novel coronavirus 2002 first infecting people southern china spreading two dozen countries .  8000 people sickened 700 died .  new cases reported since 2004 .  another form coronavirus causes mers illness began jordan saudi arabia 2012 spreading two dozen countries .  resulted 800 deaths majority reported saudi arabia .  happens now chinese researchers made preliminary determination gene sequencing virus one patient according statement gauden galea world health organization representative china .  preliminary identification novel virus short period time notable achievement galea said .  must done scientists reach definitive conclusion .  xu jianguo leader group made preliminary assessment told xinhua state news agency conduct research next several weeks confirm indeed new coronavirus . ']"
      ]
     },
     "execution_count": 9,
     "metadata": {},
     "output_type": "execute_result"
    }
   ],
   "source": [
    "X[:10]"
   ]
  },
  {
   "cell_type": "code",
   "execution_count": 10,
   "id": "10791246",
   "metadata": {},
   "outputs": [
    {
     "data": {
      "text/plain": [
       "['chinese health authorities confirm 44 cases mystery viral pneumonia wuhan  indiablooms  first portal digital news management',\n",
       " 'update cluster patients infected coronavirus oc43 siu lam hospital',\n",
       " 'china confirms cases mystery viral pneumonia',\n",
       " 'china confirms cases mystery viral pneumonia',\n",
       " 'outbreak china avian flu adenovirus culprits wuhan outbreak first cdc tests show',\n",
       " 'world health organisation touch beijing mystery viral pneumonia outbreak',\n",
       " 'mystery virus making china asia nervous  news  cbs46 . com',\n",
       " 'pneumonia outbreak linked sars mers',\n",
       " 'nations step screening await word china pneumonia outbreak',\n",
       " 'ap explains virus behind china pneumonia outbreak']"
      ]
     },
     "execution_count": 10,
     "metadata": {},
     "output_type": "execute_result"
    }
   ],
   "source": [
    "Y[:10]"
   ]
  },
  {
   "cell_type": "code",
   "execution_count": null,
   "id": "1dcc75fb",
   "metadata": {},
   "outputs": [],
   "source": []
  }
 ],
 "metadata": {
  "kernelspec": {
   "display_name": "Python 3",
   "language": "python",
   "name": "python3"
  },
  "language_info": {
   "codemirror_mode": {
    "name": "ipython",
    "version": 3
   },
   "file_extension": ".py",
   "mimetype": "text/x-python",
   "name": "python",
   "nbconvert_exporter": "python",
   "pygments_lexer": "ipython3",
   "version": "3.10.6"
  }
 },
 "nbformat": 4,
 "nbformat_minor": 5
}
