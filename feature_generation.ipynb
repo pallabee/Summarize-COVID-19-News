{
 "cells": [
  {
   "cell_type": "code",
   "execution_count": 1,
   "id": "129debc4",
   "metadata": {
    "scrolled": true
   },
   "outputs": [
    {
     "name": "stdout",
     "output_type": "stream",
     "text": [
      "importing Jupyter notebook from clean.ipynb\n",
      "importing Jupyter notebook from load.ipynb\n",
      "Size of text: 94403\n",
      "Size of title: 94403\n",
      "Size of data variable - X: 94403\n",
      "Size of target variable - Y: 94403\n",
      "importing Jupyter notebook from helper.ipynb\n"
     ]
    }
   ],
   "source": [
    "import pandas as pd\n",
    "import import_ipynb\n",
    "import clean\n",
    "import helper"
   ]
  },
  {
   "cell_type": "markdown",
   "id": "feafdf4b",
   "metadata": {},
   "source": [
    "Based on Exploratory data analysis (exploratory_data_analysis.ipynb), we\n",
    " - Set  max text length of data to 500 and target to 20.\n",
    " - Delete rows with empty string"
   ]
  },
  {
   "cell_type": "code",
   "execution_count": 2,
   "id": "af5df73d",
   "metadata": {},
   "outputs": [],
   "source": [
    "data_text_max_len = helper.TEXT_MAX_LENGTH\n",
    "target_text_max_len = helper.SUMMARY_MAX_LENGTH"
   ]
  },
  {
   "cell_type": "code",
   "execution_count": 3,
   "id": "978426be",
   "metadata": {},
   "outputs": [],
   "source": [
    "data = clean.X\n",
    "target = clean.Y"
   ]
  },
  {
   "cell_type": "code",
   "execution_count": 4,
   "id": "b6ea5ac6",
   "metadata": {},
   "outputs": [],
   "source": [
    "# Filter rows on max length\n",
    "text,summary = zip(*[(data[i],target[i]) for i in range(len(data)) \n",
    "                     if(len(target[i].split())<=target_text_max_len and len(data[i].split())<=data_text_max_len)])"
   ]
  },
  {
   "cell_type": "code",
   "execution_count": 5,
   "id": "c30a8229",
   "metadata": {},
   "outputs": [],
   "source": [
    "df_short=pd.DataFrame({'text':text,'summary':summary})"
   ]
  },
  {
   "cell_type": "code",
   "execution_count": 6,
   "id": "e2bf3bbb",
   "metadata": {},
   "outputs": [
    {
     "data": {
      "text/html": [
       "<div>\n",
       "<style scoped>\n",
       "    .dataframe tbody tr th:only-of-type {\n",
       "        vertical-align: middle;\n",
       "    }\n",
       "\n",
       "    .dataframe tbody tr th {\n",
       "        vertical-align: top;\n",
       "    }\n",
       "\n",
       "    .dataframe thead th {\n",
       "        text-align: right;\n",
       "    }\n",
       "</style>\n",
       "<table border=\"1\" class=\"dataframe\">\n",
       "  <thead>\n",
       "    <tr style=\"text-align: right;\">\n",
       "      <th></th>\n",
       "      <th>text</th>\n",
       "      <th>summary</th>\n",
       "    </tr>\n",
       "  </thead>\n",
       "  <tbody>\n",
       "    <tr>\n",
       "      <th>0</th>\n",
       "      <td>chinese health authority confirm 44 case myste...</td>\n",
       "      <td>chinese health authority confirm 44 case myste...</td>\n",
       "    </tr>\n",
       "    <tr>\n",
       "      <th>1</th>\n",
       "      <td>following issued behalf hospital authority reg...</td>\n",
       "      <td>update cluster patient infected coronavirus oc...</td>\n",
       "    </tr>\n",
       "    <tr>\n",
       "      <th>2</th>\n",
       "      <td>beijing afp china friday confirmed case myster...</td>\n",
       "      <td>china confirms case mystery viral pneumonia</td>\n",
       "    </tr>\n",
       "    <tr>\n",
       "      <th>3</th>\n",
       "      <td>china confirms case mystery viral pneumonia af...</td>\n",
       "      <td>china confirms case mystery viral pneumonia</td>\n",
       "    </tr>\n",
       "    <tr>\n",
       "      <th>4</th>\n",
       "      <td>center disease control cdc yesterday said prel...</td>\n",
       "      <td>outbreak china avian flu adenovirus culprit wu...</td>\n",
       "    </tr>\n",
       "  </tbody>\n",
       "</table>\n",
       "</div>"
      ],
      "text/plain": [
       "                                                text  \\\n",
       "0  chinese health authority confirm 44 case myste...   \n",
       "1  following issued behalf hospital authority reg...   \n",
       "2  beijing afp china friday confirmed case myster...   \n",
       "3  china confirms case mystery viral pneumonia af...   \n",
       "4  center disease control cdc yesterday said prel...   \n",
       "\n",
       "                                             summary  \n",
       "0  chinese health authority confirm 44 case myste...  \n",
       "1  update cluster patient infected coronavirus oc...  \n",
       "2        china confirms case mystery viral pneumonia  \n",
       "3        china confirms case mystery viral pneumonia  \n",
       "4  outbreak china avian flu adenovirus culprit wu...  "
      ]
     },
     "execution_count": 6,
     "metadata": {},
     "output_type": "execute_result"
    }
   ],
   "source": [
    "df_short.head()"
   ]
  },
  {
   "cell_type": "code",
   "execution_count": 7,
   "id": "520df376",
   "metadata": {},
   "outputs": [
    {
     "data": {
      "text/plain": [
       "(77788, 2)"
      ]
     },
     "execution_count": 7,
     "metadata": {},
     "output_type": "execute_result"
    }
   ],
   "source": [
    "df_short.shape"
   ]
  },
  {
   "cell_type": "code",
   "execution_count": 8,
   "id": "29372be7",
   "metadata": {},
   "outputs": [
    {
     "data": {
      "text/plain": [
       "text       0\n",
       "summary    0\n",
       "dtype: int64"
      ]
     },
     "execution_count": 8,
     "metadata": {},
     "output_type": "execute_result"
    }
   ],
   "source": [
    "df_short.isnull().sum()"
   ]
  },
  {
   "cell_type": "code",
   "execution_count": 9,
   "id": "40869b89",
   "metadata": {},
   "outputs": [
    {
     "data": {
      "text/plain": [
       "False"
      ]
     },
     "execution_count": 9,
     "metadata": {},
     "output_type": "execute_result"
    }
   ],
   "source": [
    "df_short.isnull().values.any()"
   ]
  },
  {
   "cell_type": "code",
   "execution_count": 10,
   "id": "369ae746",
   "metadata": {},
   "outputs": [],
   "source": [
    "# Delete empty string from summary and text\n",
    "df_strip = df_short[df_short['summary'].str.strip().astype(bool)]\n",
    "df = df_strip[df_strip['text'].str.strip().astype(bool)]"
   ]
  },
  {
   "cell_type": "code",
   "execution_count": 11,
   "id": "88483eeb",
   "metadata": {},
   "outputs": [
    {
     "data": {
      "text/plain": [
       "(75249, 2)"
      ]
     },
     "execution_count": 11,
     "metadata": {},
     "output_type": "execute_result"
    }
   ],
   "source": [
    "df.shape"
   ]
  },
  {
   "cell_type": "markdown",
   "id": "9e074bcf",
   "metadata": {},
   "source": [
    "The dataset is to be fed to a sequence to sequence model. For feature extraction,we use\n",
    " - One hot encoding for text data\n",
    " - Lang class(helper.ipynb) from Pytorch tutorial https://pytorch.org/tutorials/intermediate/seq2seq_translation_tutorial.html for creating the hashmaps word2index, index2word, word2count\n",
    " "
   ]
  },
  {
   "cell_type": "code",
   "execution_count": 12,
   "id": "d859d27f",
   "metadata": {},
   "outputs": [],
   "source": [
    "input_features,output_features,text_summary_pairs = helper.feature_generator(list(df['text']),list(df['summary']))"
   ]
  },
  {
   "cell_type": "code",
   "execution_count": 13,
   "id": "c011b36f",
   "metadata": {},
   "outputs": [
    {
     "data": {
      "text/plain": [
       "['chinese health authority confirm 44 case mystery viral pneumonia wuhan india bloom news service  indiablooms  03 jan 2020 0826 pm china  viralpneumonia  wuhan beijingsputnik toll people infected pneumonia unknown kind wuhan city central chinese province hubei risen 44 authority fear return deadly severe acute respiratory syndrome sars coronavirus local health committee said statement friday wuhan authority confirmed outbreak dec 31 saying 27 people tested positive since beginning month as january 3 total 44 pneumonia case detected 11 people currently severe condition vital sign rest considered generally stable wuhan health authority said infected patient quarantined along 121 people close contact them statement read investigation expert central chinese national health commission found outbreak wuhan could begun seafood market time nature viral outbreak remains unknown investigator far ruled common flu avian flu adenovirus infection common respiratory diseases infected individual reportedly display symptom typical pneumonia acute respiratory diseases prompted fear internet nation might experiencing return sars epidemic claimed 600 life china throughout 20022003 according world health organization sars disease unknown etiology incubation period 10 day estimated fatality rate 3 percent symptomatic picture begin fever headache malaise myalgia eventually develop dry nonproductive cough may accompanied progress hypoxemia chinese health authority confirm 44 case mystery viral pneumonia wuhan india bloom news service',\n",
       " 'chinese health authority confirm 44 case mystery viral pneumonia wuhan  indiablooms  first portal digital news management']"
      ]
     },
     "execution_count": 13,
     "metadata": {},
     "output_type": "execute_result"
    }
   ],
   "source": [
    "text_summary_pairs[0]"
   ]
  },
  {
   "cell_type": "code",
   "execution_count": 14,
   "id": "3b2df0ab",
   "metadata": {},
   "outputs": [
    {
     "data": {
      "text/plain": [
       "75249"
      ]
     },
     "execution_count": 14,
     "metadata": {},
     "output_type": "execute_result"
    }
   ],
   "source": [
    "len(text_summary_pairs)"
   ]
  }
 ],
 "metadata": {
  "kernelspec": {
   "display_name": "Python 3",
   "language": "python",
   "name": "python3"
  },
  "language_info": {
   "codemirror_mode": {
    "name": "ipython",
    "version": 3
   },
   "file_extension": ".py",
   "mimetype": "text/x-python",
   "name": "python",
   "nbconvert_exporter": "python",
   "pygments_lexer": "ipython3",
   "version": "3.10.6"
  }
 },
 "nbformat": 4,
 "nbformat_minor": 5
}
