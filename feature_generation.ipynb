{
 "cells": [
  {
   "cell_type": "code",
   "execution_count": 1,
   "id": "129debc4",
   "metadata": {
    "scrolled": true
   },
   "outputs": [
    {
     "name": "stdout",
     "output_type": "stream",
     "text": [
      "importing Jupyter notebook from clean.ipynb\n",
      "importing Jupyter notebook from load.ipynb\n",
      "Size of text: 94403\n",
      "Size of title: 94403\n",
      "Size of data variable - X: 94403\n",
      "Size of target variable - Y: 94403\n"
     ]
    }
   ],
   "source": [
    "import import_ipynb\n",
    "import clean"
   ]
  },
  {
   "cell_type": "markdown",
   "id": "feafdf4b",
   "metadata": {},
   "source": [
    "Based on Exploratory data analysis, we\n",
    " - Set  max text length of data to 500 and target to 20.\n",
    " - Delete rows with empty string"
   ]
  },
  {
   "cell_type": "code",
   "execution_count": 2,
   "id": "fe5b1c6b",
   "metadata": {},
   "outputs": [],
   "source": [
    "import pandas as pd"
   ]
  },
  {
   "cell_type": "code",
   "execution_count": 3,
   "id": "af5df73d",
   "metadata": {},
   "outputs": [],
   "source": [
    "data_text_max_len = 500\n",
    "target_text_max_len = 20"
   ]
  },
  {
   "cell_type": "code",
   "execution_count": 4,
   "id": "978426be",
   "metadata": {},
   "outputs": [],
   "source": [
    "data = clean.X\n",
    "target = clean.Y"
   ]
  },
  {
   "cell_type": "code",
   "execution_count": 5,
   "id": "b6ea5ac6",
   "metadata": {},
   "outputs": [],
   "source": [
    "# Filter rows on max length\n",
    "text,summary = zip(*[(data[i],target[i]) for i in range(len(data)) \n",
    "                     if(len(target[i].split())<=target_text_max_len and len(data[i].split())<=data_text_max_len)])"
   ]
  },
  {
   "cell_type": "code",
   "execution_count": 6,
   "id": "c30a8229",
   "metadata": {},
   "outputs": [],
   "source": [
    "df_short=pd.DataFrame({'text':text,'summary':summary})"
   ]
  },
  {
   "cell_type": "code",
   "execution_count": 7,
   "id": "e2bf3bbb",
   "metadata": {},
   "outputs": [
    {
     "data": {
      "text/html": [
       "<div>\n",
       "<style scoped>\n",
       "    .dataframe tbody tr th:only-of-type {\n",
       "        vertical-align: middle;\n",
       "    }\n",
       "\n",
       "    .dataframe tbody tr th {\n",
       "        vertical-align: top;\n",
       "    }\n",
       "\n",
       "    .dataframe thead th {\n",
       "        text-align: right;\n",
       "    }\n",
       "</style>\n",
       "<table border=\"1\" class=\"dataframe\">\n",
       "  <thead>\n",
       "    <tr style=\"text-align: right;\">\n",
       "      <th></th>\n",
       "      <th>text</th>\n",
       "      <th>summary</th>\n",
       "    </tr>\n",
       "  </thead>\n",
       "  <tbody>\n",
       "    <tr>\n",
       "      <th>0</th>\n",
       "      <td>chinese health authority confirm 44 case myste...</td>\n",
       "      <td>chinese health authority confirm 44 case myste...</td>\n",
       "    </tr>\n",
       "    <tr>\n",
       "      <th>1</th>\n",
       "      <td>following issued behalf hospital authority reg...</td>\n",
       "      <td>update cluster patient infected coronavirus oc...</td>\n",
       "    </tr>\n",
       "    <tr>\n",
       "      <th>2</th>\n",
       "      <td>beijing afp china friday confirmed case myster...</td>\n",
       "      <td>china confirms case mystery viral pneumonia</td>\n",
       "    </tr>\n",
       "    <tr>\n",
       "      <th>3</th>\n",
       "      <td>china confirms case mystery viral pneumonia af...</td>\n",
       "      <td>china confirms case mystery viral pneumonia</td>\n",
       "    </tr>\n",
       "    <tr>\n",
       "      <th>4</th>\n",
       "      <td>center disease control cdc yesterday said prel...</td>\n",
       "      <td>outbreak china avian flu adenovirus culprit wu...</td>\n",
       "    </tr>\n",
       "  </tbody>\n",
       "</table>\n",
       "</div>"
      ],
      "text/plain": [
       "                                                text  \\\n",
       "0  chinese health authority confirm 44 case myste...   \n",
       "1  following issued behalf hospital authority reg...   \n",
       "2  beijing afp china friday confirmed case myster...   \n",
       "3  china confirms case mystery viral pneumonia af...   \n",
       "4  center disease control cdc yesterday said prel...   \n",
       "\n",
       "                                             summary  \n",
       "0  chinese health authority confirm 44 case myste...  \n",
       "1  update cluster patient infected coronavirus oc...  \n",
       "2        china confirms case mystery viral pneumonia  \n",
       "3        china confirms case mystery viral pneumonia  \n",
       "4  outbreak china avian flu adenovirus culprit wu...  "
      ]
     },
     "execution_count": 7,
     "metadata": {},
     "output_type": "execute_result"
    }
   ],
   "source": [
    "df_short.head()"
   ]
  },
  {
   "cell_type": "code",
   "execution_count": 8,
   "id": "520df376",
   "metadata": {},
   "outputs": [
    {
     "data": {
      "text/plain": [
       "(77788, 2)"
      ]
     },
     "execution_count": 8,
     "metadata": {},
     "output_type": "execute_result"
    }
   ],
   "source": [
    "df_short.shape"
   ]
  },
  {
   "cell_type": "code",
   "execution_count": 9,
   "id": "29372be7",
   "metadata": {},
   "outputs": [
    {
     "data": {
      "text/plain": [
       "text       0\n",
       "summary    0\n",
       "dtype: int64"
      ]
     },
     "execution_count": 9,
     "metadata": {},
     "output_type": "execute_result"
    }
   ],
   "source": [
    "df_short.isnull().sum()"
   ]
  },
  {
   "cell_type": "code",
   "execution_count": 10,
   "id": "40869b89",
   "metadata": {},
   "outputs": [
    {
     "data": {
      "text/plain": [
       "False"
      ]
     },
     "execution_count": 10,
     "metadata": {},
     "output_type": "execute_result"
    }
   ],
   "source": [
    "df_short.isnull().values.any()"
   ]
  },
  {
   "cell_type": "code",
   "execution_count": 11,
   "id": "369ae746",
   "metadata": {},
   "outputs": [],
   "source": [
    "# Delete empty string from summary and text\n",
    "df_strip = df_short[df_short['summary'].str.strip().astype(bool)]\n",
    "df = df_strip[df_strip['text'].str.strip().astype(bool)]"
   ]
  },
  {
   "cell_type": "code",
   "execution_count": 12,
   "id": "88483eeb",
   "metadata": {},
   "outputs": [
    {
     "data": {
      "text/plain": [
       "(75249, 2)"
      ]
     },
     "execution_count": 12,
     "metadata": {},
     "output_type": "execute_result"
    }
   ],
   "source": [
    "df.shape"
   ]
  },
  {
   "cell_type": "code",
   "execution_count": null,
   "id": "f5697202",
   "metadata": {},
   "outputs": [],
   "source": []
  }
 ],
 "metadata": {
  "kernelspec": {
   "display_name": "Python 3",
   "language": "python",
   "name": "python3"
  },
  "language_info": {
   "codemirror_mode": {
    "name": "ipython",
    "version": 3
   },
   "file_extension": ".py",
   "mimetype": "text/x-python",
   "name": "python",
   "nbconvert_exporter": "python",
   "pygments_lexer": "ipython3",
   "version": "3.10.6"
  }
 },
 "nbformat": 4,
 "nbformat_minor": 5
}
