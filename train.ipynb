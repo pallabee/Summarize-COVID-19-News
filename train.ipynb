{
 "cells": [
  {
   "cell_type": "code",
   "execution_count": 1,
   "id": "2c4d6aaf",
   "metadata": {},
   "outputs": [],
   "source": [
    "import random\n",
    "import time\n",
    "import torch\n",
    "import torch.nn as nn\n",
    "from torch import optim\n",
    "import torch.nn.functional as F"
   ]
  },
  {
   "cell_type": "code",
   "execution_count": 2,
   "id": "09827255",
   "metadata": {},
   "outputs": [
    {
     "name": "stdout",
     "output_type": "stream",
     "text": [
      "importing Jupyter notebook from feature_generation.ipynb\n",
      "importing Jupyter notebook from clean.ipynb\n",
      "importing Jupyter notebook from load.ipynb\n",
      "Size of text: 94403\n",
      "Size of title: 94403\n",
      "Size of data variable - X: 94403\n",
      "Size of target variable - Y: 94403\n",
      "importing Jupyter notebook from helper.ipynb\n",
      "importing Jupyter notebook from model.ipynb\n"
     ]
    }
   ],
   "source": [
    "import import_ipynb\n",
    "import feature_generation\n",
    "import model\n",
    "import helper"
   ]
  },
  {
   "cell_type": "code",
   "execution_count": 3,
   "id": "8064d89f",
   "metadata": {},
   "outputs": [],
   "source": [
    "MAX_LENGTH = helper.TEXT_MAX_LENGTH\n",
    "ENCODER_MODEL_WEIGHTS = 'enc_model.pth'\n",
    "DECODER_MODEL_WEIGHTS = 'dec_model.pth'"
   ]
  },
  {
   "cell_type": "code",
   "execution_count": 4,
   "id": "ebb5d897",
   "metadata": {},
   "outputs": [],
   "source": [
    "teacher_forcing_ratio = 0.5\n",
    "\n",
    "\n",
    "def train(input_tensor, target_tensor, encoder, decoder, encoder_optimizer, decoder_optimizer, criterion, max_length=MAX_LENGTH):\n",
    "    encoder_hidden = encoder.initHidden()\n",
    "\n",
    "    encoder_optimizer.zero_grad()\n",
    "    decoder_optimizer.zero_grad()\n",
    "\n",
    "    input_length = input_tensor.size(0)\n",
    "    target_length = target_tensor.size(0)\n",
    "\n",
    "    encoder_outputs = torch.zeros(max_length, encoder.hidden_size, device=model.device)\n",
    "\n",
    "    loss = 0\n",
    "\n",
    "    for ei in range(input_length):\n",
    "        encoder_output, encoder_hidden = encoder(\n",
    "            input_tensor[ei], encoder_hidden)\n",
    "        encoder_outputs[ei] = encoder_output[0, 0]\n",
    "\n",
    "    decoder_input = torch.tensor([[helper.SOS_token]], device=model.device)\n",
    "\n",
    "    decoder_hidden = encoder_hidden\n",
    "\n",
    "    use_teacher_forcing = True if random.random() < teacher_forcing_ratio else False\n",
    "\n",
    "    if use_teacher_forcing:\n",
    "        # Teacher forcing: Feed the target as the next input\n",
    "        for di in range(target_length):\n",
    "            decoder_output, decoder_hidden, decoder_attention = decoder(\n",
    "                decoder_input, decoder_hidden, encoder_outputs)\n",
    "            loss += criterion(decoder_output, target_tensor[di])\n",
    "            decoder_input = target_tensor[di]  # Teacher forcing\n",
    "\n",
    "    else:\n",
    "        # Without teacher forcing: use its own predictions as the next input\n",
    "        for di in range(target_length):\n",
    "            decoder_output, decoder_hidden, decoder_attention = decoder(\n",
    "                decoder_input, decoder_hidden, encoder_outputs)\n",
    "            topv, topi = decoder_output.topk(1)\n",
    "            decoder_input = topi.squeeze().detach()  # detach from history as input\n",
    "\n",
    "            loss += criterion(decoder_output, target_tensor[di])\n",
    "            if decoder_input.item() == helper.EOS_token:\n",
    "                break\n",
    "\n",
    "    loss.backward()\n",
    "\n",
    "    encoder_optimizer.step()\n",
    "    decoder_optimizer.step()\n",
    "\n",
    "    return loss.item() / target_length\n"
   ]
  },
  {
   "cell_type": "code",
   "execution_count": 5,
   "id": "8d9aab71",
   "metadata": {},
   "outputs": [],
   "source": [
    "def trainIters(encoder, decoder, n_iters, print_every=1000, plot_every=100, learning_rate=0.01):\n",
    "    start = time.time()\n",
    "    plot_losses = []\n",
    "    print_loss_total = 0  # Reset every print_every\n",
    "    plot_loss_total = 0  # Reset every plot_every\n",
    "\n",
    "    encoder_optimizer = optim.SGD(encoder.parameters(), lr=learning_rate)\n",
    "    decoder_optimizer = optim.SGD(decoder.parameters(), lr=learning_rate)\n",
    "    training_pairs = [model.tensorsFromPair(random.choice(pairs),input_features,output_features)\n",
    "                      for i in range(n_iters)]\n",
    "    criterion = nn.NLLLoss()\n",
    "\n",
    "    for iter in range(1, n_iters + 1):\n",
    "        training_pair = training_pairs[iter - 1]\n",
    "        input_tensor = training_pair[0]\n",
    "        target_tensor = training_pair[1]\n",
    "\n",
    "        loss = train(input_tensor, target_tensor, encoder,\n",
    "                     decoder, encoder_optimizer, decoder_optimizer, criterion)\n",
    "        print_loss_total += loss\n",
    "        plot_loss_total += loss\n",
    "\n",
    "        if iter % print_every == 0:\n",
    "            print_loss_avg = print_loss_total / print_every\n",
    "            print_loss_total = 0\n",
    "#             print('%s (%d %d%%) %.4f' % (helper.timeSince(start, iter / n_iters),\n",
    "#                                          iter, iter / n_iters * 100, print_loss_avg))\n",
    "            print(\"Iteration %d , Average Loss %.4f\",iter,print_loss_avg)\n",
    "    \n",
    "        if iter % plot_every == 0:\n",
    "            plot_loss_avg = plot_loss_total / plot_every\n",
    "            plot_losses.append(plot_loss_avg)\n",
    "            plot_loss_total = 0\n",
    "\n",
    "#     helper.showPlot(plot_losses)"
   ]
  },
  {
   "cell_type": "code",
   "execution_count": 6,
   "id": "8165cb36",
   "metadata": {},
   "outputs": [],
   "source": [
    "pairs = feature_generation.text_summary_pairs\n",
    "input_features = feature_generation.input_features\n",
    "output_features = feature_generation.output_features"
   ]
  },
  {
   "cell_type": "code",
   "execution_count": 7,
   "id": "d286fcd8",
   "metadata": {},
   "outputs": [
    {
     "name": "stdout",
     "output_type": "stream",
     "text": [
      "Iteration %d , Average Loss %.4f 5 10.241721767849393\n",
      "Iteration %d , Average Loss %.4f 10 8.866782636455461\n",
      "Iteration %d , Average Loss %.4f 15 8.691952611529638\n",
      "Iteration %d , Average Loss %.4f 20 6.870512890285914\n",
      "Iteration %d , Average Loss %.4f 25 5.378276605757455\n",
      "Iteration %d , Average Loss %.4f 30 5.224963353474935\n",
      "Iteration %d , Average Loss %.4f 35 6.730844328138564\n",
      "Iteration %d , Average Loss %.4f 40 2.5969589551289873\n",
      "Iteration %d , Average Loss %.4f 45 6.051167648488826\n",
      "Iteration %d , Average Loss %.4f 50 5.3041010663966945\n"
     ]
    }
   ],
   "source": [
    "hidden_size = 300\n",
    "encoder = model.EncoderRNN(input_features.n_words, hidden_size).to(model.device)\n",
    "attn_decoder = model.AttnDecoderRNN(hidden_size, output_features.n_words, dropout_p=0.1).to(model.device)\n",
    "\n",
    "trainIters(encoder, attn_decoder, 50, print_every=5, plot_every=5)"
   ]
  },
  {
   "cell_type": "code",
   "execution_count": 8,
   "id": "6771d0e5",
   "metadata": {},
   "outputs": [],
   "source": [
    "torch.save(encoder.state_dict(), ENCODER_MODEL_WEIGHTS)\n",
    "torch.save(attn_decoder.state_dict(), DECODER_MODEL_WEIGHTS)"
   ]
  },
  {
   "cell_type": "code",
   "execution_count": null,
   "id": "d89f8658",
   "metadata": {},
   "outputs": [],
   "source": []
  }
 ],
 "metadata": {
  "kernelspec": {
   "display_name": "Python 3",
   "language": "python",
   "name": "python3"
  },
  "language_info": {
   "codemirror_mode": {
    "name": "ipython",
    "version": 3
   },
   "file_extension": ".py",
   "mimetype": "text/x-python",
   "name": "python",
   "nbconvert_exporter": "python",
   "pygments_lexer": "ipython3",
   "version": "3.10.6"
  }
 },
 "nbformat": 4,
 "nbformat_minor": 5
}
