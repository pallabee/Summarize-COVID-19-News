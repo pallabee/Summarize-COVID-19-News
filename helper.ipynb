{
 "cells": [
  {
   "cell_type": "code",
   "execution_count": 2,
   "id": "d7b3301d",
   "metadata": {},
   "outputs": [],
   "source": [
    "import matplotlib.pyplot as plt\n",
    "plt.switch_backend('agg')\n",
    "import matplotlib.ticker as ticker\n",
    "import numpy as np"
   ]
  },
  {
   "cell_type": "code",
   "execution_count": 3,
   "id": "fbec1d44",
   "metadata": {},
   "outputs": [],
   "source": [
    "TEXT_MAX_LENGTH = 500\n",
    "SUMMARY_MAX_LENGTH = 20"
   ]
  },
  {
   "cell_type": "code",
   "execution_count": 5,
   "id": "eb95620b",
   "metadata": {},
   "outputs": [],
   "source": [
    "def showPlot(points):    \n",
    "    plt.figure(figsize=(10,5))\n",
    "    plt.title(\"Training and Validation Loss\")\n",
    "\n",
    "    plt.plot(train_loss_values,label=\"train\")\n",
    "    plt.plot(val_loss_values,label=\"val\")\n",
    "    plt.xlabel(\"Epochs\")\n",
    "    plt.ylabel(\"Loss\")\n",
    "    plt.legend()\n",
    "    plt.show()"
   ]
  },
  {
   "cell_type": "code",
   "execution_count": 6,
   "id": "3a707b3a",
   "metadata": {},
   "outputs": [],
   "source": [
    "SOS_token = 0\n",
    "EOS_token = 1\n",
    "\n",
    "\n",
    "class Lang:\n",
    "    def __init__(self, name):\n",
    "        self.name = name\n",
    "        self.word2index = {}\n",
    "        self.word2count = {}\n",
    "        self.index2word = {0: \"SOS\", 1: \"EOS\"}\n",
    "        self.n_words = 2  # Count SOS and EOS\n",
    "\n",
    "    def addSentence(self, sentence):\n",
    "        for word in sentence.split(' '):\n",
    "            self.addWord(word)\n",
    "\n",
    "    def addWord(self, word):\n",
    "        if word not in self.word2index:\n",
    "            self.word2index[word] = self.n_words\n",
    "            self.word2count[word] = 1\n",
    "            self.index2word[self.n_words] = word\n",
    "            self.n_words += 1\n",
    "        else:\n",
    "            self.word2count[word] += 1"
   ]
  },
  {
   "cell_type": "code",
   "execution_count": 7,
   "id": "b103892d",
   "metadata": {},
   "outputs": [],
   "source": [
    "def feature_generator(data, target):\n",
    "\n",
    "    # Arranging into data,target pairs for every row of dataset\n",
    "    pairs = [[data[i],target[i]] for i in range(len(data))]\n",
    "\n",
    "    # Initialize Lang class\n",
    "    input_text = Lang(data)\n",
    "    output_text = Lang(target)\n",
    "    \n",
    "    #Feature generation\n",
    "    for pair in pairs:\n",
    "        input_text.addSentence(pair[0])\n",
    "        output_text.addSentence(pair[1])\n",
    "\n",
    "    return input_text, output_text, pairs"
   ]
  },
  {
   "cell_type": "code",
   "execution_count": null,
   "id": "979c14c9",
   "metadata": {},
   "outputs": [],
   "source": []
  }
 ],
 "metadata": {
  "kernelspec": {
   "display_name": "Python 3",
   "language": "python",
   "name": "python3"
  },
  "language_info": {
   "codemirror_mode": {
    "name": "ipython",
    "version": 3
   },
   "file_extension": ".py",
   "mimetype": "text/x-python",
   "name": "python",
   "nbconvert_exporter": "python",
   "pygments_lexer": "ipython3",
   "version": "3.10.6"
  }
 },
 "nbformat": 4,
 "nbformat_minor": 5
}
