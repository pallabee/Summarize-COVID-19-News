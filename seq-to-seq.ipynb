{
 "cells": [
  {
   "cell_type": "code",
   "execution_count": 3,
   "metadata": {},
   "outputs": [
    {
     "name": "stdout",
     "output_type": "stream",
     "text": [
      "Collecting torchtext\n",
      "  Downloading torchtext-0.11.0-cp36-cp36m-manylinux1_x86_64.whl (8.0 MB)\n",
      "\u001b[K     |████████████████████████████████| 8.0 MB 3.1 MB/s eta 0:00:01\n",
      "\u001b[?25hRequirement already satisfied: tqdm in /home/pallabee/.virtualenvs/keras/lib/python3.6/site-packages (from torchtext) (4.47.0)\n",
      "Requirement already satisfied: requests in /home/pallabee/.virtualenvs/keras/lib/python3.6/site-packages (from torchtext) (2.24.0)\n",
      "Collecting torch==1.10.0\n",
      "  Downloading torch-1.10.0-cp36-cp36m-manylinux1_x86_64.whl (881.9 MB)\n",
      "\u001b[K     |████████████████████████████████| 881.9 MB 267 bytes/s a 0:00:01     |███████▊                        | 211.4 MB 45.4 MB/s eta 0:00:15     |█████████▌                      | 260.3 MB 9.1 MB/s eta 0:01:09     |███████████                     | 304.1 MB 553 kB/s eta 0:17:24     |██████████████████▋             | 513.3 MB 22.8 MB/s eta 0:00:17     |████████████████████████████    | 771.5 MB 21.7 MB/s eta 0:00:06\n",
      "\u001b[?25hRequirement already satisfied: numpy in /home/pallabee/.virtualenvs/keras/lib/python3.6/site-packages (from torchtext) (1.19.0)\n",
      "Requirement already satisfied: urllib3!=1.25.0,!=1.25.1,<1.26,>=1.21.1 in /home/pallabee/.virtualenvs/keras/lib/python3.6/site-packages (from requests->torchtext) (1.25.9)\n",
      "Requirement already satisfied: chardet<4,>=3.0.2 in /home/pallabee/.virtualenvs/keras/lib/python3.6/site-packages (from requests->torchtext) (3.0.4)\n",
      "Requirement already satisfied: idna<3,>=2.5 in /home/pallabee/.virtualenvs/keras/lib/python3.6/site-packages (from requests->torchtext) (2.10)\n",
      "Requirement already satisfied: certifi>=2017.4.17 in /home/pallabee/.virtualenvs/keras/lib/python3.6/site-packages (from requests->torchtext) (2020.6.20)\n",
      "Collecting dataclasses; python_version < \"3.7\"\n",
      "  Downloading dataclasses-0.8-py3-none-any.whl (19 kB)\n",
      "Collecting typing-extensions\n",
      "  Downloading typing_extensions-3.10.0.2-py3-none-any.whl (26 kB)\n",
      "\u001b[31mERROR: torchvision 0.7.0 has requirement torch==1.6.0, but you'll have torch 1.10.0 which is incompatible.\u001b[0m\n",
      "Installing collected packages: dataclasses, typing-extensions, torch, torchtext\n",
      "  Attempting uninstall: torch\n",
      "    Found existing installation: torch 1.6.0\n",
      "    Uninstalling torch-1.6.0:\n",
      "      Successfully uninstalled torch-1.6.0\n",
      "Successfully installed dataclasses-0.8 torch-1.10.0 torchtext-0.11.0 typing-extensions-3.10.0.2\n",
      "\u001b[33mWARNING: You are using pip version 20.0.2; however, version 21.3.1 is available.\n",
      "You should consider upgrading via the '/home/pallabee/.virtualenvs/keras/bin/python -m pip install --upgrade pip' command.\u001b[0m\n"
     ]
    }
   ],
   "source": [
    "!pip install torchtext"
   ]
  },
  {
   "cell_type": "code",
   "execution_count": 12,
   "metadata": {},
   "outputs": [],
   "source": [
    "import torch\n",
    "import torch.nn as nn\n",
    "import torch.optim as optim\n",
    "\n",
    "from torchtext.datasets import Multi30k\n",
    "from torchtext.legacy.data import Field, BucketIterator\n",
    "\n",
    "import numpy as np\n",
    "import pandas as pd\n",
    "import spacy, random"
   ]
  },
  {
   "cell_type": "code",
   "execution_count": 10,
   "metadata": {},
   "outputs": [
    {
     "name": "stdout",
     "output_type": "stream",
     "text": [
      "\u001b[38;5;3m⚠ As of spaCy v3.0, shortcuts like 'en' are deprecated. Please use the\n",
      "full pipeline package name 'en_core_web_sm' instead.\u001b[0m\n",
      "Collecting en-core-web-sm==3.1.0\n",
      "  Downloading https://github.com/explosion/spacy-models/releases/download/en_core_web_sm-3.1.0/en_core_web_sm-3.1.0-py3-none-any.whl (13.6 MB)\n",
      "\u001b[K     |████████████████████████████████| 13.6 MB 16.0 MB/s eta 0:00:01\n",
      "\u001b[?25hRequirement already satisfied: spacy<3.2.0,>=3.1.0 in /home/pallabee/.virtualenvs/keras/lib/python3.6/site-packages (from en-core-web-sm==3.1.0) (3.1.4)\n",
      "Requirement already satisfied: catalogue<2.1.0,>=2.0.6 in /home/pallabee/.virtualenvs/keras/lib/python3.6/site-packages (from spacy<3.2.0,>=3.1.0->en-core-web-sm==3.1.0) (2.0.6)\n",
      "Requirement already satisfied: murmurhash<1.1.0,>=0.28.0 in /home/pallabee/.virtualenvs/keras/lib/python3.6/site-packages (from spacy<3.2.0,>=3.1.0->en-core-web-sm==3.1.0) (1.0.6)\n",
      "Requirement already satisfied: blis<0.8.0,>=0.4.0 in /home/pallabee/.virtualenvs/keras/lib/python3.6/site-packages (from spacy<3.2.0,>=3.1.0->en-core-web-sm==3.1.0) (0.7.5)\n",
      "Requirement already satisfied: srsly<3.0.0,>=2.4.1 in /home/pallabee/.virtualenvs/keras/lib/python3.6/site-packages (from spacy<3.2.0,>=3.1.0->en-core-web-sm==3.1.0) (2.4.2)\n",
      "Requirement already satisfied: tqdm<5.0.0,>=4.38.0 in /home/pallabee/.virtualenvs/keras/lib/python3.6/site-packages (from spacy<3.2.0,>=3.1.0->en-core-web-sm==3.1.0) (4.47.0)\n",
      "Requirement already satisfied: setuptools in /home/pallabee/.virtualenvs/keras/lib/python3.6/site-packages (from spacy<3.2.0,>=3.1.0->en-core-web-sm==3.1.0) (46.1.1)\n",
      "Requirement already satisfied: spacy-legacy<3.1.0,>=3.0.8 in /home/pallabee/.virtualenvs/keras/lib/python3.6/site-packages (from spacy<3.2.0,>=3.1.0->en-core-web-sm==3.1.0) (3.0.8)\n",
      "Requirement already satisfied: requests<3.0.0,>=2.13.0 in /home/pallabee/.virtualenvs/keras/lib/python3.6/site-packages (from spacy<3.2.0,>=3.1.0->en-core-web-sm==3.1.0) (2.24.0)\n",
      "Requirement already satisfied: typing-extensions<4.0.0.0,>=3.7.4; python_version < \"3.8\" in /home/pallabee/.virtualenvs/keras/lib/python3.6/site-packages (from spacy<3.2.0,>=3.1.0->en-core-web-sm==3.1.0) (3.10.0.2)\n",
      "Requirement already satisfied: typer<0.5.0,>=0.3.0 in /home/pallabee/.virtualenvs/keras/lib/python3.6/site-packages (from spacy<3.2.0,>=3.1.0->en-core-web-sm==3.1.0) (0.4.0)\n",
      "Requirement already satisfied: pydantic!=1.8,!=1.8.1,<1.9.0,>=1.7.4 in /home/pallabee/.virtualenvs/keras/lib/python3.6/site-packages (from spacy<3.2.0,>=3.1.0->en-core-web-sm==3.1.0) (1.8.2)\n",
      "Requirement already satisfied: wasabi<1.1.0,>=0.8.1 in /home/pallabee/.virtualenvs/keras/lib/python3.6/site-packages (from spacy<3.2.0,>=3.1.0->en-core-web-sm==3.1.0) (0.8.2)\n",
      "Requirement already satisfied: jinja2 in /home/pallabee/.virtualenvs/keras/lib/python3.6/site-packages (from spacy<3.2.0,>=3.1.0->en-core-web-sm==3.1.0) (2.11.2)\n",
      "Requirement already satisfied: cymem<2.1.0,>=2.0.2 in /home/pallabee/.virtualenvs/keras/lib/python3.6/site-packages (from spacy<3.2.0,>=3.1.0->en-core-web-sm==3.1.0) (2.0.6)\n",
      "Requirement already satisfied: thinc<8.1.0,>=8.0.12 in /home/pallabee/.virtualenvs/keras/lib/python3.6/site-packages (from spacy<3.2.0,>=3.1.0->en-core-web-sm==3.1.0) (8.0.12)\n",
      "Requirement already satisfied: packaging>=20.0 in /home/pallabee/.virtualenvs/keras/lib/python3.6/site-packages (from spacy<3.2.0,>=3.1.0->en-core-web-sm==3.1.0) (20.4)\n",
      "Requirement already satisfied: preshed<3.1.0,>=3.0.2 in /home/pallabee/.virtualenvs/keras/lib/python3.6/site-packages (from spacy<3.2.0,>=3.1.0->en-core-web-sm==3.1.0) (3.0.6)\n",
      "Requirement already satisfied: numpy>=1.15.0 in /home/pallabee/.virtualenvs/keras/lib/python3.6/site-packages (from spacy<3.2.0,>=3.1.0->en-core-web-sm==3.1.0) (1.19.0)\n",
      "Requirement already satisfied: pathy>=0.3.5 in /home/pallabee/.virtualenvs/keras/lib/python3.6/site-packages (from spacy<3.2.0,>=3.1.0->en-core-web-sm==3.1.0) (0.6.1)\n",
      "Requirement already satisfied: zipp>=0.5; python_version < \"3.8\" in /home/pallabee/.virtualenvs/keras/lib/python3.6/site-packages (from catalogue<2.1.0,>=2.0.6->spacy<3.2.0,>=3.1.0->en-core-web-sm==3.1.0) (3.1.0)\n",
      "Requirement already satisfied: chardet<4,>=3.0.2 in /home/pallabee/.virtualenvs/keras/lib/python3.6/site-packages (from requests<3.0.0,>=2.13.0->spacy<3.2.0,>=3.1.0->en-core-web-sm==3.1.0) (3.0.4)\n",
      "Requirement already satisfied: certifi>=2017.4.17 in /home/pallabee/.virtualenvs/keras/lib/python3.6/site-packages (from requests<3.0.0,>=2.13.0->spacy<3.2.0,>=3.1.0->en-core-web-sm==3.1.0) (2020.6.20)\n",
      "Requirement already satisfied: urllib3!=1.25.0,!=1.25.1,<1.26,>=1.21.1 in /home/pallabee/.virtualenvs/keras/lib/python3.6/site-packages (from requests<3.0.0,>=2.13.0->spacy<3.2.0,>=3.1.0->en-core-web-sm==3.1.0) (1.25.9)\n",
      "Requirement already satisfied: idna<3,>=2.5 in /home/pallabee/.virtualenvs/keras/lib/python3.6/site-packages (from requests<3.0.0,>=2.13.0->spacy<3.2.0,>=3.1.0->en-core-web-sm==3.1.0) (2.10)\n",
      "Requirement already satisfied: click<9.0.0,>=7.1.1 in /home/pallabee/.virtualenvs/keras/lib/python3.6/site-packages (from typer<0.5.0,>=0.3.0->spacy<3.2.0,>=3.1.0->en-core-web-sm==3.1.0) (7.1.2)\n",
      "Requirement already satisfied: dataclasses>=0.6; python_version < \"3.7\" in /home/pallabee/.virtualenvs/keras/lib/python3.6/site-packages (from pydantic!=1.8,!=1.8.1,<1.9.0,>=1.7.4->spacy<3.2.0,>=3.1.0->en-core-web-sm==3.1.0) (0.8)\n",
      "Requirement already satisfied: MarkupSafe>=0.23 in /home/pallabee/.virtualenvs/keras/lib/python3.6/site-packages (from jinja2->spacy<3.2.0,>=3.1.0->en-core-web-sm==3.1.0) (1.1.1)\n",
      "Requirement already satisfied: contextvars<3,>=2.4; python_version < \"3.7\" in /home/pallabee/.virtualenvs/keras/lib/python3.6/site-packages (from thinc<8.1.0,>=8.0.12->spacy<3.2.0,>=3.1.0->en-core-web-sm==3.1.0) (2.4)\n",
      "Requirement already satisfied: six in /home/pallabee/.virtualenvs/keras/lib/python3.6/site-packages (from packaging>=20.0->spacy<3.2.0,>=3.1.0->en-core-web-sm==3.1.0) (1.15.0)\n",
      "Requirement already satisfied: pyparsing>=2.0.2 in /home/pallabee/.virtualenvs/keras/lib/python3.6/site-packages (from packaging>=20.0->spacy<3.2.0,>=3.1.0->en-core-web-sm==3.1.0) (2.4.7)\n",
      "Requirement already satisfied: smart-open<6.0.0,>=5.0.0 in /home/pallabee/.virtualenvs/keras/lib/python3.6/site-packages (from pathy>=0.3.5->spacy<3.2.0,>=3.1.0->en-core-web-sm==3.1.0) (5.2.1)\n",
      "Requirement already satisfied: immutables>=0.9 in /home/pallabee/.virtualenvs/keras/lib/python3.6/site-packages (from contextvars<3,>=2.4; python_version < \"3.7\"->thinc<8.1.0,>=8.0.12->spacy<3.2.0,>=3.1.0->en-core-web-sm==3.1.0) (0.16)\n",
      "Installing collected packages: en-core-web-sm\n",
      "Successfully installed en-core-web-sm-3.1.0\n",
      "\u001b[33mWARNING: You are using pip version 20.0.2; however, version 21.3.1 is available.\n",
      "You should consider upgrading via the '/home/pallabee/.virtualenvs/keras/bin/python -m pip install --upgrade pip' command.\u001b[0m\n",
      "\u001b[38;5;2m✔ Download and installation successful\u001b[0m\n",
      "You can now load the package via spacy.load('en_core_web_sm')\n",
      "\u001b[38;5;3m⚠ As of spaCy v3.0, shortcuts like 'de' are deprecated. Please use the\n",
      "full pipeline package name 'de_core_news_sm' instead.\u001b[0m\n",
      "Collecting de-core-news-sm==3.1.0\n",
      "  Downloading https://github.com/explosion/spacy-models/releases/download/de_core_news_sm-3.1.0/de_core_news_sm-3.1.0-py3-none-any.whl (18.8 MB)\n",
      "\u001b[K     |████████████████████████████████| 18.8 MB 16.8 MB/s eta 0:00:01\n",
      "\u001b[?25hRequirement already satisfied: spacy<3.2.0,>=3.1.0 in /home/pallabee/.virtualenvs/keras/lib/python3.6/site-packages (from de-core-news-sm==3.1.0) (3.1.4)\n",
      "Requirement already satisfied: cymem<2.1.0,>=2.0.2 in /home/pallabee/.virtualenvs/keras/lib/python3.6/site-packages (from spacy<3.2.0,>=3.1.0->de-core-news-sm==3.1.0) (2.0.6)\n",
      "Requirement already satisfied: thinc<8.1.0,>=8.0.12 in /home/pallabee/.virtualenvs/keras/lib/python3.6/site-packages (from spacy<3.2.0,>=3.1.0->de-core-news-sm==3.1.0) (8.0.12)\n",
      "Requirement already satisfied: packaging>=20.0 in /home/pallabee/.virtualenvs/keras/lib/python3.6/site-packages (from spacy<3.2.0,>=3.1.0->de-core-news-sm==3.1.0) (20.4)\n",
      "Requirement already satisfied: srsly<3.0.0,>=2.4.1 in /home/pallabee/.virtualenvs/keras/lib/python3.6/site-packages (from spacy<3.2.0,>=3.1.0->de-core-news-sm==3.1.0) (2.4.2)\n",
      "Requirement already satisfied: preshed<3.1.0,>=3.0.2 in /home/pallabee/.virtualenvs/keras/lib/python3.6/site-packages (from spacy<3.2.0,>=3.1.0->de-core-news-sm==3.1.0) (3.0.6)\n",
      "Requirement already satisfied: pathy>=0.3.5 in /home/pallabee/.virtualenvs/keras/lib/python3.6/site-packages (from spacy<3.2.0,>=3.1.0->de-core-news-sm==3.1.0) (0.6.1)\n",
      "Requirement already satisfied: blis<0.8.0,>=0.4.0 in /home/pallabee/.virtualenvs/keras/lib/python3.6/site-packages (from spacy<3.2.0,>=3.1.0->de-core-news-sm==3.1.0) (0.7.5)\n",
      "Requirement already satisfied: typing-extensions<4.0.0.0,>=3.7.4; python_version < \"3.8\" in /home/pallabee/.virtualenvs/keras/lib/python3.6/site-packages (from spacy<3.2.0,>=3.1.0->de-core-news-sm==3.1.0) (3.10.0.2)\n",
      "Requirement already satisfied: typer<0.5.0,>=0.3.0 in /home/pallabee/.virtualenvs/keras/lib/python3.6/site-packages (from spacy<3.2.0,>=3.1.0->de-core-news-sm==3.1.0) (0.4.0)\n"
     ]
    },
    {
     "name": "stdout",
     "output_type": "stream",
     "text": [
      "Requirement already satisfied: pydantic!=1.8,!=1.8.1,<1.9.0,>=1.7.4 in /home/pallabee/.virtualenvs/keras/lib/python3.6/site-packages (from spacy<3.2.0,>=3.1.0->de-core-news-sm==3.1.0) (1.8.2)\n",
      "Requirement already satisfied: catalogue<2.1.0,>=2.0.6 in /home/pallabee/.virtualenvs/keras/lib/python3.6/site-packages (from spacy<3.2.0,>=3.1.0->de-core-news-sm==3.1.0) (2.0.6)\n",
      "Requirement already satisfied: requests<3.0.0,>=2.13.0 in /home/pallabee/.virtualenvs/keras/lib/python3.6/site-packages (from spacy<3.2.0,>=3.1.0->de-core-news-sm==3.1.0) (2.24.0)\n",
      "Requirement already satisfied: wasabi<1.1.0,>=0.8.1 in /home/pallabee/.virtualenvs/keras/lib/python3.6/site-packages (from spacy<3.2.0,>=3.1.0->de-core-news-sm==3.1.0) (0.8.2)\n",
      "Requirement already satisfied: tqdm<5.0.0,>=4.38.0 in /home/pallabee/.virtualenvs/keras/lib/python3.6/site-packages (from spacy<3.2.0,>=3.1.0->de-core-news-sm==3.1.0) (4.47.0)\n",
      "Requirement already satisfied: setuptools in /home/pallabee/.virtualenvs/keras/lib/python3.6/site-packages (from spacy<3.2.0,>=3.1.0->de-core-news-sm==3.1.0) (46.1.1)\n",
      "Requirement already satisfied: murmurhash<1.1.0,>=0.28.0 in /home/pallabee/.virtualenvs/keras/lib/python3.6/site-packages (from spacy<3.2.0,>=3.1.0->de-core-news-sm==3.1.0) (1.0.6)\n",
      "Requirement already satisfied: jinja2 in /home/pallabee/.virtualenvs/keras/lib/python3.6/site-packages (from spacy<3.2.0,>=3.1.0->de-core-news-sm==3.1.0) (2.11.2)\n",
      "Requirement already satisfied: spacy-legacy<3.1.0,>=3.0.8 in /home/pallabee/.virtualenvs/keras/lib/python3.6/site-packages (from spacy<3.2.0,>=3.1.0->de-core-news-sm==3.1.0) (3.0.8)\n",
      "Requirement already satisfied: numpy>=1.15.0 in /home/pallabee/.virtualenvs/keras/lib/python3.6/site-packages (from spacy<3.2.0,>=3.1.0->de-core-news-sm==3.1.0) (1.19.0)\n",
      "Requirement already satisfied: dataclasses<1.0,>=0.6; python_version < \"3.7\" in /home/pallabee/.virtualenvs/keras/lib/python3.6/site-packages (from thinc<8.1.0,>=8.0.12->spacy<3.2.0,>=3.1.0->de-core-news-sm==3.1.0) (0.8)\n",
      "Requirement already satisfied: contextvars<3,>=2.4; python_version < \"3.7\" in /home/pallabee/.virtualenvs/keras/lib/python3.6/site-packages (from thinc<8.1.0,>=8.0.12->spacy<3.2.0,>=3.1.0->de-core-news-sm==3.1.0) (2.4)\n",
      "Requirement already satisfied: pyparsing>=2.0.2 in /home/pallabee/.virtualenvs/keras/lib/python3.6/site-packages (from packaging>=20.0->spacy<3.2.0,>=3.1.0->de-core-news-sm==3.1.0) (2.4.7)\n",
      "Requirement already satisfied: six in /home/pallabee/.virtualenvs/keras/lib/python3.6/site-packages (from packaging>=20.0->spacy<3.2.0,>=3.1.0->de-core-news-sm==3.1.0) (1.15.0)\n",
      "Requirement already satisfied: smart-open<6.0.0,>=5.0.0 in /home/pallabee/.virtualenvs/keras/lib/python3.6/site-packages (from pathy>=0.3.5->spacy<3.2.0,>=3.1.0->de-core-news-sm==3.1.0) (5.2.1)\n",
      "Requirement already satisfied: click<9.0.0,>=7.1.1 in /home/pallabee/.virtualenvs/keras/lib/python3.6/site-packages (from typer<0.5.0,>=0.3.0->spacy<3.2.0,>=3.1.0->de-core-news-sm==3.1.0) (7.1.2)\n",
      "Requirement already satisfied: zipp>=0.5; python_version < \"3.8\" in /home/pallabee/.virtualenvs/keras/lib/python3.6/site-packages (from catalogue<2.1.0,>=2.0.6->spacy<3.2.0,>=3.1.0->de-core-news-sm==3.1.0) (3.1.0)\n",
      "Requirement already satisfied: certifi>=2017.4.17 in /home/pallabee/.virtualenvs/keras/lib/python3.6/site-packages (from requests<3.0.0,>=2.13.0->spacy<3.2.0,>=3.1.0->de-core-news-sm==3.1.0) (2020.6.20)\n",
      "Requirement already satisfied: idna<3,>=2.5 in /home/pallabee/.virtualenvs/keras/lib/python3.6/site-packages (from requests<3.0.0,>=2.13.0->spacy<3.2.0,>=3.1.0->de-core-news-sm==3.1.0) (2.10)\n",
      "Requirement already satisfied: urllib3!=1.25.0,!=1.25.1,<1.26,>=1.21.1 in /home/pallabee/.virtualenvs/keras/lib/python3.6/site-packages (from requests<3.0.0,>=2.13.0->spacy<3.2.0,>=3.1.0->de-core-news-sm==3.1.0) (1.25.9)\n",
      "Requirement already satisfied: chardet<4,>=3.0.2 in /home/pallabee/.virtualenvs/keras/lib/python3.6/site-packages (from requests<3.0.0,>=2.13.0->spacy<3.2.0,>=3.1.0->de-core-news-sm==3.1.0) (3.0.4)\n",
      "Requirement already satisfied: MarkupSafe>=0.23 in /home/pallabee/.virtualenvs/keras/lib/python3.6/site-packages (from jinja2->spacy<3.2.0,>=3.1.0->de-core-news-sm==3.1.0) (1.1.1)\n",
      "Requirement already satisfied: immutables>=0.9 in /home/pallabee/.virtualenvs/keras/lib/python3.6/site-packages (from contextvars<3,>=2.4; python_version < \"3.7\"->thinc<8.1.0,>=8.0.12->spacy<3.2.0,>=3.1.0->de-core-news-sm==3.1.0) (0.16)\n",
      "Installing collected packages: de-core-news-sm\n",
      "Successfully installed de-core-news-sm-3.1.0\n",
      "\u001b[33mWARNING: You are using pip version 20.0.2; however, version 21.3.1 is available.\n",
      "You should consider upgrading via the '/home/pallabee/.virtualenvs/keras/bin/python -m pip install --upgrade pip' command.\u001b[0m\n",
      "\u001b[38;5;2m✔ Download and installation successful\u001b[0m\n",
      "You can now load the package via spacy.load('de_core_news_sm')\n"
     ]
    }
   ],
   "source": [
    "#Loading SpaCy's vocabulary for our desired languages.\n",
    "# !python -m pip install spacy\n",
    "# !python -m spacy download en \n",
    "# !python -m spacy download de"
   ]
  },
  {
   "cell_type": "code",
   "execution_count": 15,
   "metadata": {
    "scrolled": true
   },
   "outputs": [],
   "source": [
    "spacy_german = spacy.load('de_core_news_sm')\n",
    "spacy_english = spacy.load('en_core_web_sm')"
   ]
  },
  {
   "cell_type": "code",
   "execution_count": 16,
   "metadata": {},
   "outputs": [],
   "source": [
    "def tokenize_german(text):\n",
    "    return [token.text for token in spacy_german.tokenizer(text)]"
   ]
  },
  {
   "cell_type": "code",
   "execution_count": 17,
   "metadata": {},
   "outputs": [],
   "source": [
    "def tokenize_english(text):\n",
    "    return [token.text for token in spacy_english.tokenizer(text)]"
   ]
  },
  {
   "cell_type": "code",
   "execution_count": 21,
   "metadata": {},
   "outputs": [],
   "source": [
    "german = Field(tokenize=tokenize_german, lower = True, init_token=\"<sos>\", eos_token=\"<eos>\")"
   ]
  },
  {
   "cell_type": "code",
   "execution_count": 22,
   "metadata": {},
   "outputs": [],
   "source": [
    "english = Field(tokenize=tokenize_english, lower = True, init_token=\"<sos>\", eos_token=\"<eos>\")"
   ]
  },
  {
   "cell_type": "code",
   "execution_count": null,
   "metadata": {},
   "outputs": [],
   "source": []
  }
 ],
 "metadata": {
  "kernelspec": {
   "display_name": "Python 3",
   "language": "python",
   "name": "python3"
  },
  "language_info": {
   "codemirror_mode": {
    "name": "ipython",
    "version": 3
   },
   "file_extension": ".py",
   "mimetype": "text/x-python",
   "name": "python",
   "nbconvert_exporter": "python",
   "pygments_lexer": "ipython3",
   "version": "3.6.9"
  }
 },
 "nbformat": 4,
 "nbformat_minor": 4
}
