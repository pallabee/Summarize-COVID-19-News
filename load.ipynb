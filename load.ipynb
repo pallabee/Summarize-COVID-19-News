{
 "cells": [
  {
   "cell_type": "markdown",
   "id": "46c6430b",
   "metadata": {},
   "source": [
    "### Load Libraries and Initialize variables"
   ]
  },
  {
   "cell_type": "code",
   "execution_count": 1,
   "id": "e0abc12c",
   "metadata": {},
   "outputs": [],
   "source": [
    "import json"
   ]
  },
  {
   "cell_type": "code",
   "execution_count": 2,
   "id": "ff3381d0",
   "metadata": {},
   "outputs": [],
   "source": [
    "path1 = '../manning/16119_webhose_2020_01_db21c91a1ab47385bb13773ed8238c31_0000001.json'\n",
    "path2 = '../manning/16119_webhose_2019_12_db21c91a1ab47385bb13773ed8238c31_0000001.json'"
   ]
  },
  {
   "cell_type": "code",
   "execution_count": 3,
   "id": "01471f26",
   "metadata": {},
   "outputs": [],
   "source": [
    "# Initializing empty lists to store text and title keys from json object\n",
    "text = []\n",
    "title = []"
   ]
  },
  {
   "cell_type": "markdown",
   "id": "dcf6c23d",
   "metadata": {},
   "source": [
    "### Load the Data"
   ]
  },
  {
   "cell_type": "code",
   "execution_count": 4,
   "id": "393e64d8",
   "metadata": {},
   "outputs": [],
   "source": [
    "def load_extract(path):\n",
    "    #read file\n",
    "    data = [json.loads(line) for line in open(path, 'r')]\n",
    "    #extract keys\n",
    "    for d in data:\n",
    "        text.append([d][0][\"text\"])\n",
    "        title.append([d][0][\"title\"])"
   ]
  },
  {
   "cell_type": "code",
   "execution_count": 5,
   "id": "095c252d",
   "metadata": {},
   "outputs": [],
   "source": [
    "load_extract(path1)\n",
    "load_extract(path2)"
   ]
  },
  {
   "cell_type": "code",
   "execution_count": 6,
   "id": "108dd455",
   "metadata": {},
   "outputs": [
    {
     "name": "stdout",
     "output_type": "stream",
     "text": [
      "Size of text: 94403\n",
      "Size of title: 94403\n"
     ]
    }
   ],
   "source": [
    "print(\"Size of text:\", len(text))\n",
    "print(\"Size of title:\", len(title))"
   ]
  },
  {
   "cell_type": "code",
   "execution_count": 7,
   "id": "3b565ffc",
   "metadata": {},
   "outputs": [
    {
     "data": {
      "text/plain": [
       "['Chinese health authorities confirm 44 cases of mystery viral pneumonia in Wuhan India Blooms News Service | @indiablooms | 03 Jan 2020, 08:26 pm #China , #ViralPneumonia , #Wuhan\\nBeijing/Sputnik: The toll of people infected with pneumonia of unknown kind in the Wuhan city of the central Chinese province of Hubei has risen to 44 as authorities fear the return of deadly Severe Acute Respiratory Syndrome (SARS) coronavirus, the local health committee said in a statement on Friday.\\nThe Wuhan authorities confirmed the outbreak on Dec 31, saying that 27 people have tested positive since the beginning of that month.\\n\"As of January 3, a total of 44 pneumonia cases have been detected, with 11 people currently in severe condition, while the vital signs of the rest are considered generally stable,\" the Wuhan health authorities said.\\nThe infected patients have been quarantined along with 121 people who had been in close contact with them, the statement read.\\nAn investigation of experts from the central Chinese National Health Commission has found that the outbreak in Wuhan could have begun in the seafood market.\\nAt the same time, the nature of the viral outbreak remains unknown.\\nThe investigators have so far ruled out common flu, avian flu, adenovirus infection and other common respiratory diseases.\\nThe infected individuals reportedly display symptoms typical of pneumonia and other acute respiratory diseases.\\nIt prompted fears on the Internet that the nation might be experiencing a return of the SARS, an epidemic that had claimed more than 600 lives in China throughout 2002-2003.\\nAccording to the World Health Organization, SARS is a disease of unknown etiology with an incubation period of up to 10 days with an estimated fatality rate of 3 percent.\\nThe symptomatic picture begins with fever, headache, malaise, and myalgias which eventually develop into a dry, non-productive cough that may be accompanied by or progress to hypoxemia.\\nChinese health authorities confirm 44 cases of mystery viral pneumonia in Wuhan India Blooms News Service ',\n",
       " 'The following is issued on behalf of the Hospital Authority: Regarding an earlier announcement on a cluster of patients infected with Coronavirus OC43 in a male ward for severe intellectual disability, the spokesperson for Siu Lam Hospital gave the following update today (January 3): One more 73-year-old patient and a staff member in the ward presented with respiratory symptoms. Appropriate viral tests were arranged for the patient and the test results were positive for Coronavirus OC43. The patient concerned is being treated under isolation with stable condition. The staff member is currently on leave. Coronavirus OC43 is a known human coronavirus that usually causes mild respiratory infection such as common cold. Admission to the ward has been suspended and restricted visiting has been imposed. Infection control measures have already been stepped up according to established guidelines. All other patients in the ward are under close surveillance. The cases have been reported to the Hospital Authority Head Office and the Centre for Health Protection for necessary follow-up.',\n",
       " ' Beijing (AFP)\\nChina on Friday confirmed more cases of a mystery viral pneumonia that has sparked fears about a resurgence of SARS, the flu-like virus that killed hundreds of people more than a decade ago.\\nThe 44 cases, up from the initial 27 announced Tuesday, include 11 \"severe cases,\" health authorities in the central Chinese city of Wuhan said in a statement.\\n\"The vital signs of the other patients are generally stable,\" the statement said.\\nThe authorities are still in the process of identifying the cause of the infection, but \"influenza, avian influenza, adenovirus infection and other common respiratory diseases have been excluded,\" the Wuhan health commission said on Friday, without mentioning SARS, which is caused by a coronavirus.\\nNews of the mystery pneumonia outbreak earlier this week led to speculation online that it might be linked to Severe Acute Respiratory Syndrome, a highly contagious respiratory disease.\\nWuhan police on Wednesday said they had punished eight people for \"publishing or forwarding false information on the internet without verification.\"\\nThe health commission said all patients have received treatment in isolation and the city was tracking people who had come into close contact with the patients.\\nSome of those being treated work in a seafood market in the city, and \"no obvious evidence of human to human transmission\" has been found so far, the commission said.\\nThe World Health Organization (WHO) criticised China for under-reporting the number of SARS cases following the outbreak in 2003.\\nSARS killed 349 people in mainland China and another 299 in Hong Kong that year.\\nThe virus, which infected more than 8,000 people around the world, is expected to have originated in the southern Chinese province of Guangdong, according to WHO.\\nChina sacked its then health minister Zhang Wenkang for the poor handling of the crisis in 2003, several months after the first case was reported.\\nWHO announced that China was free of SARS in May 2004.\\n© 2020 AFP',\n",
       " 'China confirms more cases of mystery viral pneumonia By AFP Friday Jan 03, 2020 News of the mystery pneumonia outbreak earlier this week led to speculation online that the viral disease might be linked to SARS. Photo: AFP\\nChina on Friday confirmed more cases of a mystery viral pneumonia that has sparked fears about a resurgence of Severe Acute Respiratory Syndrome (SARS), the flu-like virus that killed hundreds of people more than a decade ago.\\nThe 44 cases — up from the initial 27 announced on Tuesday — include 11 \"severe cases,\" health authorities in the central Chinese city of Wuhan said in a statement.\\n\"The vital signs of the other patients are generally stable,\" the statement said.\\nThe authorities are still in the process of identifying the cause of the infection, but \"influenza, avian influenza, adenovirus infection and other common respiratory diseases have been excluded,\" the Wuhan health commission said on Friday, without mentioning SARS — which is caused by a coronavirus.\\nNews of the mystery pneumonia outbreak earlier this week led to speculation online that it might be linked to SARS, which is a highly contagious respiratory disease. Read more: African swine fever kills nearly 30,000 pigs in Indonesia\\nWuhan police on Wednesday said they had punished eight people for \"publishing or forwarding false information on the internet without verification.\"\\nThe health commission said all patients have received treatment in isolation and the city was tracking people who had come into close contact with the patients.\\nSome of those being treated work in a seafood market in the city, and \"no obvious evidence of human to human transmission\" has been found so far, the commission said.\\nThe World Health Organisation (WHO) criticised China for under-reporting the number of SARS cases following the outbreak in 2003.\\nSARS killed 349 people in mainland China and another 299 in Hong Kong that year.\\nThe virus, which infected more than 8,000 people around the world, is expected to have originated in the southern Chinese province of Guangdong, according to WHO.\\nChina sacked its then health minister Zhang Wenkang, for the poor handling of the crisis in 2003, several months after the first case was reported.\\nWHO announced that China was free of SARS in May 2004. More From Health:',\n",
       " 'The Centers for Disease Control (CDC) yesterday said that preliminary tests have excluded flu, avian flu or adenovirus infections as possible causes of a pneumonia outbreak in Wuhan, China, that was first reported last week.\\nAfter a rumor spread online on Tuesday last week about a SARS-like infection in Wuhan, the CDC on Tuesday announced that while information from the Chinese government suggests that the disease does not resemble SARS, enhanced preventive measures would take effect immediately.\\nCDC officials are boarding all flights from Wuhan to Taiwan — 12 flights per week — to check whether passengers or crew have symptoms indicating a possible case of the disease, the agency said.\\nCDC Deputy Director-General Chuang Jen-hsiang (莊人祥) said that the Chinese government has excluded flu, avian flu and adenovirus as possible causes, but it had not ruled out other novel viruses, such as a coronavirus.\\n“Coronaviruses can cause mild symptoms, similar to a common cold, but they can also cause serious symptoms, such as SARS or MERS [Middle East respiratory syndrome],” Chuang said, adding that it is also important to find the source of the infection.\\nChinese government information showed that there was no apparent evidence of human-to-human transmission, but the source of infection, the transmission route and whether there are communal outbreaks would be key points for the CDC to follow up on, and the factors will affect the centers’ risk evaluation, he said.\\nSince Tuesday last week, seven flights from Wuhan to Taiwan with a combined 633 passengers and crew had been inspected by airport quarantine officials, with six passengers showing mild symptoms, Chuang said.\\nOne of the cases was confirmed as the flu, one a flu-like illness, one a common cold and another had a reduced fever, while local heath departments are following up on the two other cases, he said.\\nThe CDC has issued a notice to healthcare professionals, urging them to be alert when treating people for pneumonia and to check whether they have traveled to Wuhan recently, he said, adding that they should report suspected cases and send a specimen for tests.\\nForty-four people had been diagnosed with the illness as of Friday, with 11 in a critical condition, Chinese government data showed.\\nA total of 121 people who have had direct contact with patients are being observed, the data showed.\\nThe CDC said that people planning to visit Wuhan and nearby areas should wash their hands frequently with soap, wear a surgical mask, avoid livestock markets, hospitals and crowded areas, and report to the airport quarantine station if they have a fever or flu-like symptoms when returning to Taiwan. This story has been viewed 653 times. Comments will be moderated. Keep comments relevant to the article. Remarks containing abusive and obscene language, personal attacks of any kind or promotion will be removed and the user banned. Final decision will be at the discretion of the Taipei Times.',\n",
       " '\\\\n Authorities in central city of Wuhan say market will be closed indefinitely ‘for sanitation and renovation’ \\\\n Law enforcement officers stand guard outside on Wednesday as stallholders allowed to remove seafood stocks \\\\n Authorities in central city of Wuhan say market will be closed indefinitely ‘for sanitation and renovation’. The World Health Organisation said it is in ongoing contact with authorities in China over an unidentified outbreak of viral pneumonia in the central city of Wuhan, amid concern it may have been transmitted from animals. Wuhan health authorities on Tuesday said 27 people – most of them stallholders at the Huanan Seafood Wholesale Market – had been treated in hospital, with seven said to be in serious condition. Pathology tests were under way to try and identify the virus, officials said. Hong Kong medical authorities were also on alert. Wuhan authorities ordered the closure of the market on Wednesday. Local media said the market sold other animals, including birds, raising concern after the 2002-03 outbreak of severe acute respiratory syndrome (Sars) in China killed several hundred people and is thought to have jumped from animals to humans. Officials in China and at the WHO said the virus in Wuhan had yet to be identified. “Investigations are still being carried out and authorities cannot yet confirm what pathogen is causing this illness,” said Paige Snider, a senior adviser with the WHO in China, adding that the organisation had been in contact with Chinese authorities. “There are many potential causes of viral pneumonia, many of which are more common than severe acute respiratory syndrome coronavirus. WHO is closely monitoring this event and will share more details as we have them,” she said. Online news outlet Hongxing, an affiliate of Chengdu Economic Daily , reported late on Tuesday that the market sold other wildlife, including pheasants and snakes. It also said the organs of rabbits and other animals were found in the market. A seafood vendor surnamed Sun confirmed the Hongxing report, saying such animals were available for sale in the market. Medical authorities in Hong Kong , which is about four hours from Wuhan by high-speed train, said late on Tuesday they had stepped up border screening and put hospitals in the city on alert. “The situation in Wuhan is unusual, and we are not sure about the reasons behind the outbreak yet,” Hong Kong’s Secretary for Food and Health Sophia Chan Siu-chee said after a meeting with officials and experts on New Year’s Eve. “Since we are now in the holiday season, and Hong Kong has close transport ties with Wuhan, we must stay alert.” Yuen Kwok-yung, a microbiologist at the University of Hong Kong, said that although the Wuhan case had similarities to the 1997 outbreak of bird flu and the Sars epidemic, there was no need for people to panic though they should remain alert. “There are chances that the virus was transmitted from animals to humans, but so far the authorities have not identified the virus,” he said on Tuesday before the Hongxing report. Law enforcement officers wearing face masks were on guard outside the market on Wednesday morning as seafood vendors were allowed to remove their stocks, the official Yangtze Daily reported. The city’s health and commerce regulators issued the notice to close the market. “After considering the municipal health commission’s report about the current pneumonia situation in the city, it is decided that Huanan seafood market will be closed for sanitation and renovation … the date for reopening will be announced later,” the notice said. News of the outbreak in Wuhan came to light after an urgent notice from the city’s health department, which told hospitals to report further cases of “pneumonia of unknown origin”, started circulating on social media on Monday night. The 2002-03 Sars epidemic infected more than more than 5,300 people and killed 349 in mainland China. In Hong Kong, 1,750 people were infected and 299 died. According to the WHO, the Sars coronavirus is thought to be an animal virus from an as-yet-uncertain animal reservoir, perhaps bats, that spread to other animals and first infected humans in Guangdong, near Hong Kong, in late 2002. \\\\n Sign up now for our 50% early bird offer from SCMP Research: China AI Report. The all new SCMP China AI Report gives you exclusive first-hand insights and analysis into the latest industry developments, and actionable and objective intelligence about China AI that you should be equipped with. \\\\n',\n",
       " 'BEIJING (CNN) -- Chinese health authorities have not been able to identify a mysterious strain of pneumonia that has infected dozens of people and put the rest of Asia on alert -- although they have ruled out a return of the deadly severe acute respiratory syndrome (SARS) virus.\\nA total of 59 cases of unknown viral pneumonia have been reported in the city of Wuhan, central China, with seven patients in critical condition, the Wuhan Municipal Health Commission said in a statement on Sunday. All patients are being treated in quarantine, and no deaths have been reported.\\nAccording to the World Health Organization (WHO), symptoms of the pneumonia are mainly fever, with a number of patients having difficulty breathing, and chest radiographs showing invasive lesions of both lungs.\\nThe outbreak came to light in late December and prompted fears in China of a possible resurgence of SARS, an acute viral respiratory illness first reported in the country in 2002 that caused a pandemic that ripped through Asia.\\nSARS spread to 37 countries worldwide, infected more than 8,000 people and killed 774 from November 2002 to July 2003. The illness is brought on by a coronavirus, and symptoms include fever, cough, severe headache, dizziness and other flu-like complaints.\\nAmid growing disquiet, Wuhan authorities said on Sunday they had excluded the possibility of SARS, Middle East respiratory syndrome (MERS), and bird flu.\\nIf not SARS, then what is it?\\nAccording to the Wuhan health commission, the infection broke out between December 12 and December 29, with some of the patients employed at a seafood market in the city.\\nLocal media reported that the market -- which has been closed since January 1 for disinfection -- also sold other live animals, including birds, rabbits and snakes, sparking concerns that the virus might have been transmitted to humans from animals.\\nProfessor David Hui Shu-cheong, a respiratory expert at the Chinese University of Hong Kong, said it is highly likely that the outbreak was caused by a \"brand-new viral pneumonia.\"\\n\"The concern now is whether the game (sold at the market) is one of the reasons for the outbreak,\" he told CNN.\\nAccording to Hui, many new pathogens have been transmitted to humans from animals. The coronavirus that causes SARS was traced to the civet cat, a wild animal considered a delicacy in parts of southern China, where the epidemic first broke out. And dromedary camels are considered a likely source of MERS, he said.\\nAuthorities have said that there has been no obvious evidence of human-to-human transmission so far, and no health care workers have been infected. At least 163 people who have had close contact with those infected have been placed under medical observation.\\nBut there are still fears of a nationwide epidemic. The outbreak came just before the start of the busy Lunar New Year travel season, when hundreds of millions of Chinese are expected to be crammed into trains, buses and planes for family reunions. Millions of Chinese are also expected to travel overseas around Lunar New Year, which falls on January 25.\\nProfessor Leo Poon, a virologist at Hong Kong University and a SARS expert, said the severity of the situation to come depends on whether the pneumonia in Wuhan can be transmitted among humans.\\n\"If it only transmits from animals to humans, now that the market has been shut down and sanitized, the chances for people to be infected will be low,\" he said.\\nHui, from Chinese University, said the possibility of human-to-human transmission cannot be ruled out.\\n\"Most often, respiratory viruses can be transmitted among humans. It is only a matter of how contagious it is,\" he said.\\nAsia steps up screening\\nThe current outbreak in Wuhan has put Asian governments on close watch, stepping up preventive measures such as airport temperature screening and notification requirements.\\nIn Hong Kong, 21 people have been found with fever or respiratory symptoms after returning from Wuhan, according to the city\\'s Hospital Authority. Seven of them have been discharged, and so far none of them has been linked to the cluster of pneumonia in Wuhan. Travelers arriving from Wuhan are also being screened at Hong Kong airport.\\nIn Singapore, travelers arriving from the Chinese city are also required to go through temperature screening, according to the Ministry of Health. Doctors have been alerted to look out for suspected cases of pneumonia among people who recently returned from there.\\nIn South Korea, the country\\'s Centers for Disease Control and Prevention set up a quarantine task force and warned visitors to Wuhan not to touch wild animals or poultry, or visit local markets.\\nTaiwan on Sunday stepped up measures by expanding the conditions for notification of suspected cases of Wuhan pneumonia, according to government-run news agency CNA.\\nThe World Health Organization said in a statement Sunday that \"there is limited information to determine the overall risk of this reported cluster of pneumonia of unknown etiology.\"\\nIt said it does not recommend any specific measures for travelers, and \"advises against the application of any travel or trade restrictions on China based on the current information available on this event.\"\\nFall and winter months are traditionally prone to flu epidemics. In the United States, the current flu season is shaping up to be one of the worst in decades, according to Dr. Anthony Fauci, director of the National Institute of Allergies and Infectious Diseases.\\nHe said while it is impossible to predict how the flu will play out, the season so far is on track to be as severe as the 2017-18 flu season, which was the deadliest in more than four decades, according to the US Centers for Disease Control and Prevention.\\nThe-CNN-Wire™ & © 2020 Cable News Network, Inc., a WarnerMedia Company. All rights reserved. ',\n",
       " 'The Centers for Disease Control (CDC) yesterday said that SARS and Middle East respiratory syndrome (MERS) have been excluded as possible causes of a pneumonia outbreak in Wuhan, China, but the cause of the viral pneumonia has not yet been identified.\\nAccording to information received on Sunday night from the Wuhan Municipal Health Commission, 59 people have been diagnosed with the unspecified pneumonia, and seven of them had serious symptoms, CDC Deputy Director-General Chuang Jen-hsiang (莊人祥) said.\\n“The commission said all cases experienced onset of symptoms between Dec. 12 and Dec. 29 last year,” he said.\\n“Based on the report it sent to the WHO, it suspects the source of infection to be associated with animals sold at a local market, Huanan Seafood City,” Chuang said, adding that the market has temporarily been shut down.\\nWhether the disease is spreading from person to person is a key point of observation, Chuang said.\\nThe increase in the number of cases, from 44 people to 59, could have been due to more cases having been identified because of media coverage of the outbreak, he said.\\nThe reduction in the number of serious cases, from 11 people to seven, could have been because some were later confirmed as flu or other diseases, and excluded from the outbreak, Chuang said.\\nThe commission said that 163 people who were in direct contact with those infected have been placed under observation, he said, adding that there is no evidence of significant human-to-human transmission and no healthcare workers have been infected.\\nThe commission suspects the source of infection to be from a certain animal, and many healthcare professionals suspect it to be a new type of coronavirus, Chuang said.\\nInspections conducted on a total of 867 passengers and crew on 10 flights from Wuhan to Taiwan since Tuesday last week found eight people with mild respiratory symptoms, but they have either been diagnosed with the flu or a cold, or their symptoms improved after treatment, the CDC said.\\nPassengers from Wuhan with respiratory symptoms would be tested for 26 types of viruses associated with viral pneumonia, but if all test results are negative, next-generation sequencing would be performed to identify potential pathogens, Chuang said.\\nThe WHO’s report on “pneumonia of unknown cause in China,” which was released on Sunday, said: “There is limited information to determine the overall risk of this reported cluster of pneumonia of unknown etiology.”\\nIt advised against the application of any travel or trade restrictions on China based on the information available at present.\\nThe WHO recommended public health measures and surveillance of influenza and severe acute respiratory infections, and urged travelers experiencing respiratory illness either during or after travel to seek medical attention and share their travel history with their healthcare provider. 589 ',\n",
       " \"Nations step up screening and await word on China's pneumonia outbreak Filed Under : woman_wearing_mask_at_airport.jpg macky_ch / iStock\\nAs the world waits for more information about what triggered an unexplained pneumonia outbreak in Wuhan, China's tenth-largest city, reaction to the event continues to reverberate across Asia and beyond.\\nFor example, Hong Kong continues to flag more sick travelers, though there's no sign any of the patients are linked to the Wuhan cluster, which is focused around a seafood market that also sold live animals such as chicken, bats, marmots, and other wild animals.\\nWuhan's health department hasn't announced any new cases since Jan 5, keeping the total at 59, and so far there are no announcements about a pathogen, thought to be viral. So far tests have ruled out influenza, avian influenza, adenovirus, severe acute respiratory syndrome (SARS), and Middle East respiratory syndrome coronavirus (MERS-CoV). The city is home to one of China's top labs, the Wuhan Institute of Virology.\\nSome experts wonder if a novel coronavirus might be the cause of the outbreak. Hong Kong respirator shortage\\nHong Kong has identified 9 more sick travelers who recently visited Wuhan, and tests have already identified common respiratory viruses in four of them. According to the administrative region's Centre for Health Protection (CHP), 30 sick travelers have been evaluated since Dec 31, and 13 have been discharged.\\nIn a related development, the CHP added unidentified pneumonia to its list of notifiable diseases, a step that gives authorities quarantine power. Also, the CHP announced a precautionary measure for blood donation, which said people who have visited Wuhan should defer donation for 14 days from their departure date.\\nMeanwhile, public fears of the unknown respiratory illness outbreak in a city hit by the SARS outbreak in 2003 have increased demand for N95 respirators, and supplies are running low in Hong Kong, the South China Morning Post (SCMP) reported today.\\nSome retailers have doubled or tripled the price of the masks in response to the increased demand, though doctors have said there's no signs that any cluster-related cases have been detected in Hong Kong. Screening in Vietnam; US Embassy alert\\nIn Vietnam, the health ministry has asked hospitals to monitor patients from or who have recently visited Wuhan and asked health departments to increase health checks at border gates and use remote body temperature devices, VN Express International, an online newspaper based in Hanoi, reported today.\\nAlso, the US Embassy & Consulates in China today posted a health alert about Wuhan's unidentified pneumonia outbreak, following a US Center for Disease Control and Prevention (CDC) alert yesterday.\\nThe US Embassy urged travelers to Wuhan to avoid live or dead animals, animal markets, and products that come from animals such as uncooked meat. It also advised travelers to avoid contact with sick people and to wash hands often with soap and water.\\nIt also listed steps for Wuhan travelers who feel sick, including staying home except when seeking medical care, avoiding travel when sick, and calling ahead to the clinic or emergency department before seeking care.\\nSee also: \",\n",
       " \"BEIJING - Since late last year, people in the central Chinese city of Wuhan have been infected with a viral pneumonia whose cause was unknown. The outbreak raised the spectre of another SARS epidemic, which killed hundreds in 2002 and 2003.\\nA preliminary investigation has now identified the respiratory disease as a new type of coronavirus, Chinese state media reported Thursday, citing scientists handling the investigation.\\nAs of Sunday, local authorities reported 59 people with the illness. Seven were in critical condition, while the rest were stable. Eight were discharged Wednesday night after they didn't exhibit any more symptoms for several days.\\nWHAT ARE CORONAVIRUSES?\\nCoronaviruses are a large family of viruses first identified in humans in the mid-1960s. Some cause the common cold, while others found in bats, camels and other animals have evolved into more severe illnesses.\\nThe name comes from the Latin word “corona,” meaning a halo or crown, which the viruses resemble when viewed under a microscope.\\nWHAT ARE THE SYMPTOMS?\\nCommon symptoms include a runny nose, headache, cough and fever. Shortness of breath, chills and body aches are associated with more dangerous kinds of coronavirus, according to the U.S. Centers for Disease Control and Prevention.\\nHOW ARE CORONAVIRUSES SPREAD?\\nMany coronaviruses can spread through coughing or sneezing, or by touching an infected person, but officials said the present illness does not not transmit readily between people\\nThe Wuhan Municipal Health Commission said some of the infected patients ran businesses in a seafood market, meaning it's possible they were infected by animals there. The market is being suspended and investigated.\\nIS IT ANYTHING LIKE SARS?\\nSARS, or severe acute respiratory syndrome, belongs to the coronavirus family, but Chinese state media say the illness in Wuhan is different from coronaviruses that have been identified in the past. Earlier laboratory tests ruled out SARS and MERS (Middle East respiratory syndrome), as well as influenza, bird flu, adenovirus and other common lung-infecting germs.\\nSARS emerged as a novel coronavirus in 2002, first infecting people in southern China, then spreading to more than two dozen countries. More than 8,000 people were sickened and more than 700 died. No new cases have been reported since 2004.\\nAnother form of coronavirus causes MERS, an illness that began in Jordan and Saudi Arabia in 2012 before spreading to about two dozen other countries. It has resulted in more than 800 deaths, with the majority reported from Saudi Arabia.\\nWHAT HAPPENS NOW?\\nChinese researchers made their preliminary determination through gene sequencing of the virus from one patient, according to a statement from Gauden Galea, a World Health Organization representative to China.\\n“Preliminary identification of a novel virus in a short period of time is a notable achievement,” Galea said.\\nBut more must be done before scientists can reach a definitive conclusion. Xu Jianguo, the leader of the group that made the preliminary assessment, told Xinhua state news agency that they will conduct more research over the next several weeks to confirm that it is indeed a new coronavirus.\"]"
      ]
     },
     "execution_count": 7,
     "metadata": {},
     "output_type": "execute_result"
    }
   ],
   "source": [
    "text[:10]"
   ]
  },
  {
   "cell_type": "code",
   "execution_count": 8,
   "id": "93badbf2",
   "metadata": {},
   "outputs": [
    {
     "data": {
      "text/plain": [
       "['Chinese health authorities confirm 44 cases of mystery viral pneumonia in Wuhan | Indiablooms - First Portal on Digital News Management',\n",
       " 'Update on cluster of patients infected with Coronavirus OC43 in Siu Lam Hospital',\n",
       " 'China confirms more cases of mystery viral pneumonia',\n",
       " 'China confirms more cases of mystery viral pneumonia',\n",
       " 'Outbreak in China: Avian flu, adenovirus not culprits in Wuhan outbreak, first CDC tests show',\n",
       " 'World Health Organisation in touch with Beijing after mystery viral pneumonia outbreak',\n",
       " 'Mystery virus making China and Asia nervous | News | cbs46.com',\n",
       " 'Pneumonia outbreak not linked to SARS or MERS',\n",
       " \"Nations step up screening and await word on China's pneumonia outbreak\",\n",
       " \"AP Explains: The virus behind China's pneumonia outbreak\"]"
      ]
     },
     "execution_count": 8,
     "metadata": {},
     "output_type": "execute_result"
    }
   ],
   "source": [
    "title[:10]"
   ]
  },
  {
   "cell_type": "code",
   "execution_count": null,
   "id": "33806ba7",
   "metadata": {},
   "outputs": [],
   "source": []
  }
 ],
 "metadata": {
  "kernelspec": {
   "display_name": "Python 3",
   "language": "python",
   "name": "python3"
  },
  "language_info": {
   "codemirror_mode": {
    "name": "ipython",
    "version": 3
   },
   "file_extension": ".py",
   "mimetype": "text/x-python",
   "name": "python",
   "nbconvert_exporter": "python",
   "pygments_lexer": "ipython3",
   "version": "3.10.6"
  }
 },
 "nbformat": 4,
 "nbformat_minor": 5
}
